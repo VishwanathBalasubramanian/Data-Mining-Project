{
 "cells": [
  {
   "cell_type": "markdown",
   "metadata": {},
   "source": [
    "# Problem 2: CART-RF-ANN\n",
    "### An Insurance firm providing tour insurance is facing higher claim frequency. The management decides to collect data from the past few years. You are assigned the task to make a model which predicts the claim status and provide recommendations to management. Use CART, RF & ANN and compare the models' performances in train and test sets. \n"
   ]
  },
  {
   "cell_type": "markdown",
   "metadata": {},
   "source": [
    "### Importing Data and Performing Basic EDA"
   ]
  },
  {
   "cell_type": "markdown",
   "metadata": {},
   "source": [
    "# 2.1 Data Ingestion: Read the dataset. Do the descriptive statistics and do null value condition check, write an inference on it."
   ]
  },
  {
   "cell_type": "code",
   "execution_count": 1,
   "metadata": {},
   "outputs": [],
   "source": [
    "# importing libraries\n",
    "import pandas as pd\n",
    "import numpy as np\n",
    "import matplotlib.pyplot as plt\n",
    "%matplotlib inline\n",
    "import seaborn as sns\n",
    "import warnings\n",
    "warnings.filterwarnings(\"ignore\")\n",
    "from sklearn.model_selection import train_test_split\n",
    "from sklearn.tree import DecisionTreeClassifier, plot_tree\n",
    "from sklearn import tree\n",
    "from sklearn.ensemble import RandomForestClassifier\n",
    "from sklearn.model_selection import GridSearchCV\n",
    "from sklearn.preprocessing import StandardScaler \n",
    "from sklearn.metrics import classification_report,confusion_matrix\n",
    "from sklearn.metrics import roc_auc_score\n",
    "from sklearn.metrics import roc_curve"
   ]
  },
  {
   "cell_type": "code",
   "execution_count": 2,
   "metadata": {},
   "outputs": [],
   "source": [
    "#load data\n",
    "data_insurance_frame = pd.read_csv('insurance_part2_data.csv')"
   ]
  },
  {
   "cell_type": "code",
   "execution_count": 3,
   "metadata": {},
   "outputs": [
    {
     "data": {
      "text/html": [
       "<div>\n",
       "<style scoped>\n",
       "    .dataframe tbody tr th:only-of-type {\n",
       "        vertical-align: middle;\n",
       "    }\n",
       "\n",
       "    .dataframe tbody tr th {\n",
       "        vertical-align: top;\n",
       "    }\n",
       "\n",
       "    .dataframe thead th {\n",
       "        text-align: right;\n",
       "    }\n",
       "</style>\n",
       "<table border=\"1\" class=\"dataframe\">\n",
       "  <thead>\n",
       "    <tr style=\"text-align: right;\">\n",
       "      <th></th>\n",
       "      <th>Age</th>\n",
       "      <th>Agency_Code</th>\n",
       "      <th>Type</th>\n",
       "      <th>Claimed</th>\n",
       "      <th>Commision</th>\n",
       "      <th>Channel</th>\n",
       "      <th>Duration</th>\n",
       "      <th>Sales</th>\n",
       "      <th>Product_Name</th>\n",
       "      <th>Destination</th>\n",
       "    </tr>\n",
       "  </thead>\n",
       "  <tbody>\n",
       "    <tr>\n",
       "      <th>0</th>\n",
       "      <td>48</td>\n",
       "      <td>C2B</td>\n",
       "      <td>Airlines</td>\n",
       "      <td>No</td>\n",
       "      <td>0.70</td>\n",
       "      <td>Online</td>\n",
       "      <td>7</td>\n",
       "      <td>2.51</td>\n",
       "      <td>Customised Plan</td>\n",
       "      <td>ASIA</td>\n",
       "    </tr>\n",
       "    <tr>\n",
       "      <th>1</th>\n",
       "      <td>36</td>\n",
       "      <td>EPX</td>\n",
       "      <td>Travel Agency</td>\n",
       "      <td>No</td>\n",
       "      <td>0.00</td>\n",
       "      <td>Online</td>\n",
       "      <td>34</td>\n",
       "      <td>20.00</td>\n",
       "      <td>Customised Plan</td>\n",
       "      <td>ASIA</td>\n",
       "    </tr>\n",
       "    <tr>\n",
       "      <th>2</th>\n",
       "      <td>39</td>\n",
       "      <td>CWT</td>\n",
       "      <td>Travel Agency</td>\n",
       "      <td>No</td>\n",
       "      <td>5.94</td>\n",
       "      <td>Online</td>\n",
       "      <td>3</td>\n",
       "      <td>9.90</td>\n",
       "      <td>Customised Plan</td>\n",
       "      <td>Americas</td>\n",
       "    </tr>\n",
       "    <tr>\n",
       "      <th>3</th>\n",
       "      <td>36</td>\n",
       "      <td>EPX</td>\n",
       "      <td>Travel Agency</td>\n",
       "      <td>No</td>\n",
       "      <td>0.00</td>\n",
       "      <td>Online</td>\n",
       "      <td>4</td>\n",
       "      <td>26.00</td>\n",
       "      <td>Cancellation Plan</td>\n",
       "      <td>ASIA</td>\n",
       "    </tr>\n",
       "    <tr>\n",
       "      <th>4</th>\n",
       "      <td>33</td>\n",
       "      <td>JZI</td>\n",
       "      <td>Airlines</td>\n",
       "      <td>No</td>\n",
       "      <td>6.30</td>\n",
       "      <td>Online</td>\n",
       "      <td>53</td>\n",
       "      <td>18.00</td>\n",
       "      <td>Bronze Plan</td>\n",
       "      <td>ASIA</td>\n",
       "    </tr>\n",
       "  </tbody>\n",
       "</table>\n",
       "</div>"
      ],
      "text/plain": [
       "   Age Agency_Code           Type Claimed  Commision Channel  Duration  Sales  \\\n",
       "0   48         C2B       Airlines      No       0.70  Online         7   2.51   \n",
       "1   36         EPX  Travel Agency      No       0.00  Online        34  20.00   \n",
       "2   39         CWT  Travel Agency      No       5.94  Online         3   9.90   \n",
       "3   36         EPX  Travel Agency      No       0.00  Online         4  26.00   \n",
       "4   33         JZI       Airlines      No       6.30  Online        53  18.00   \n",
       "\n",
       "        Product_Name Destination  \n",
       "0    Customised Plan        ASIA  \n",
       "1    Customised Plan        ASIA  \n",
       "2    Customised Plan    Americas  \n",
       "3  Cancellation Plan        ASIA  \n",
       "4        Bronze Plan        ASIA  "
      ]
     },
     "execution_count": 3,
     "metadata": {},
     "output_type": "execute_result"
    }
   ],
   "source": [
    "#check data\n",
    "data_insurance_frame.head()"
   ]
  },
  {
   "cell_type": "code",
   "execution_count": 4,
   "metadata": {},
   "outputs": [
    {
     "name": "stdout",
     "output_type": "stream",
     "text": [
      "Agency_code Distribution \n",
      " EPX    1365\n",
      "C2B     924\n",
      "CWT     472\n",
      "JZI     239\n",
      "Name: Agency_Code, dtype: int64\n",
      "\n",
      "\n",
      "Type Distribution \n",
      " Travel Agency    1837\n",
      "Airlines         1163\n",
      "Name: Type, dtype: int64\n",
      "\n",
      "\n",
      "Claimed Distribution \n",
      " No     2076\n",
      "Yes     924\n",
      "Name: Claimed, dtype: int64\n",
      "\n",
      "\n",
      "Channel Distribution \n",
      " Online     2954\n",
      "Offline      46\n",
      "Name: Channel, dtype: int64\n",
      "\n",
      "\n",
      "Product Distribution Name \n",
      " Customised Plan      1136\n",
      "Cancellation Plan     678\n",
      "Bronze Plan           650\n",
      "Silver Plan           427\n",
      "Gold Plan             109\n",
      "Name: Product_Name, dtype: int64\n",
      "\n",
      "\n",
      "Destination Distribution \n",
      " ASIA        2465\n",
      "Americas     320\n",
      "EUROPE       215\n",
      "Name: Destination, dtype: int64\n"
     ]
    }
   ],
   "source": [
    "#spread value counts\n",
    "print('Agency_code Distribution \\n',data_insurance_frame.Agency_Code.value_counts())\n",
    "print('\\n')\n",
    "print('Type Distribution \\n',data_insurance_frame.Type.value_counts())\n",
    "print('\\n')\n",
    "print('Claimed Distribution \\n',data_insurance_frame.Claimed.value_counts())\n",
    "print('\\n')\n",
    "print('Channel Distribution \\n',data_insurance_frame.Channel.value_counts())\n",
    "print('\\n')\n",
    "print('Product Distribution Name \\n',data_insurance_frame.Product_Name.value_counts())\n",
    "print('\\n')\n",
    "print('Destination Distribution \\n',data_insurance_frame.Destination.value_counts())"
   ]
  },
  {
   "cell_type": "code",
   "execution_count": 5,
   "metadata": {},
   "outputs": [
    {
     "data": {
      "text/plain": [
       "Index(['Age', 'Agency_Code', 'Type', 'Claimed', 'Commision', 'Channel',\n",
       "       'Duration', 'Sales', 'Product_Name', 'Destination'],\n",
       "      dtype='object')"
      ]
     },
     "execution_count": 5,
     "metadata": {},
     "output_type": "execute_result"
    }
   ],
   "source": [
    "#columns \n",
    "data_insurance_frame.columns"
   ]
  },
  {
   "cell_type": "code",
   "execution_count": 6,
   "metadata": {},
   "outputs": [
    {
     "data": {
      "text/plain": [
       "(3000, 10)"
      ]
     },
     "execution_count": 6,
     "metadata": {},
     "output_type": "execute_result"
    }
   ],
   "source": [
    "#shape\n",
    "data_insurance_frame.shape "
   ]
  },
  {
   "cell_type": "code",
   "execution_count": 7,
   "metadata": {},
   "outputs": [
    {
     "name": "stdout",
     "output_type": "stream",
     "text": [
      "<class 'pandas.core.frame.DataFrame'>\n",
      "RangeIndex: 3000 entries, 0 to 2999\n",
      "Data columns (total 10 columns):\n",
      " #   Column        Non-Null Count  Dtype  \n",
      "---  ------        --------------  -----  \n",
      " 0   Age           3000 non-null   int64  \n",
      " 1   Agency_Code   3000 non-null   object \n",
      " 2   Type          3000 non-null   object \n",
      " 3   Claimed       3000 non-null   object \n",
      " 4   Commision     3000 non-null   float64\n",
      " 5   Channel       3000 non-null   object \n",
      " 6   Duration      3000 non-null   int64  \n",
      " 7   Sales         3000 non-null   float64\n",
      " 8   Product_Name  3000 non-null   object \n",
      " 9   Destination   3000 non-null   object \n",
      "dtypes: float64(2), int64(2), object(6)\n",
      "memory usage: 234.5+ KB\n"
     ]
    }
   ],
   "source": [
    "#info\n",
    "data_insurance_frame.info()"
   ]
  },
  {
   "cell_type": "code",
   "execution_count": 8,
   "metadata": {},
   "outputs": [
    {
     "data": {
      "text/html": [
       "<div>\n",
       "<style scoped>\n",
       "    .dataframe tbody tr th:only-of-type {\n",
       "        vertical-align: middle;\n",
       "    }\n",
       "\n",
       "    .dataframe tbody tr th {\n",
       "        vertical-align: top;\n",
       "    }\n",
       "\n",
       "    .dataframe thead th {\n",
       "        text-align: right;\n",
       "    }\n",
       "</style>\n",
       "<table border=\"1\" class=\"dataframe\">\n",
       "  <thead>\n",
       "    <tr style=\"text-align: right;\">\n",
       "      <th></th>\n",
       "      <th>Age</th>\n",
       "      <th>Agency_Code</th>\n",
       "      <th>Type</th>\n",
       "      <th>Claimed</th>\n",
       "      <th>Commision</th>\n",
       "      <th>Channel</th>\n",
       "      <th>Duration</th>\n",
       "      <th>Sales</th>\n",
       "      <th>Product_Name</th>\n",
       "      <th>Destination</th>\n",
       "    </tr>\n",
       "  </thead>\n",
       "  <tbody>\n",
       "    <tr>\n",
       "      <th>count</th>\n",
       "      <td>3000.000000</td>\n",
       "      <td>3000</td>\n",
       "      <td>3000</td>\n",
       "      <td>3000</td>\n",
       "      <td>3000.000000</td>\n",
       "      <td>3000</td>\n",
       "      <td>3000.000000</td>\n",
       "      <td>3000.000000</td>\n",
       "      <td>3000</td>\n",
       "      <td>3000</td>\n",
       "    </tr>\n",
       "    <tr>\n",
       "      <th>unique</th>\n",
       "      <td>NaN</td>\n",
       "      <td>4</td>\n",
       "      <td>2</td>\n",
       "      <td>2</td>\n",
       "      <td>NaN</td>\n",
       "      <td>2</td>\n",
       "      <td>NaN</td>\n",
       "      <td>NaN</td>\n",
       "      <td>5</td>\n",
       "      <td>3</td>\n",
       "    </tr>\n",
       "    <tr>\n",
       "      <th>top</th>\n",
       "      <td>NaN</td>\n",
       "      <td>EPX</td>\n",
       "      <td>Travel Agency</td>\n",
       "      <td>No</td>\n",
       "      <td>NaN</td>\n",
       "      <td>Online</td>\n",
       "      <td>NaN</td>\n",
       "      <td>NaN</td>\n",
       "      <td>Customised Plan</td>\n",
       "      <td>ASIA</td>\n",
       "    </tr>\n",
       "    <tr>\n",
       "      <th>freq</th>\n",
       "      <td>NaN</td>\n",
       "      <td>1365</td>\n",
       "      <td>1837</td>\n",
       "      <td>2076</td>\n",
       "      <td>NaN</td>\n",
       "      <td>2954</td>\n",
       "      <td>NaN</td>\n",
       "      <td>NaN</td>\n",
       "      <td>1136</td>\n",
       "      <td>2465</td>\n",
       "    </tr>\n",
       "    <tr>\n",
       "      <th>mean</th>\n",
       "      <td>38.091000</td>\n",
       "      <td>NaN</td>\n",
       "      <td>NaN</td>\n",
       "      <td>NaN</td>\n",
       "      <td>14.529203</td>\n",
       "      <td>NaN</td>\n",
       "      <td>70.001333</td>\n",
       "      <td>60.249913</td>\n",
       "      <td>NaN</td>\n",
       "      <td>NaN</td>\n",
       "    </tr>\n",
       "    <tr>\n",
       "      <th>std</th>\n",
       "      <td>10.463518</td>\n",
       "      <td>NaN</td>\n",
       "      <td>NaN</td>\n",
       "      <td>NaN</td>\n",
       "      <td>25.481455</td>\n",
       "      <td>NaN</td>\n",
       "      <td>134.053313</td>\n",
       "      <td>70.733954</td>\n",
       "      <td>NaN</td>\n",
       "      <td>NaN</td>\n",
       "    </tr>\n",
       "    <tr>\n",
       "      <th>min</th>\n",
       "      <td>8.000000</td>\n",
       "      <td>NaN</td>\n",
       "      <td>NaN</td>\n",
       "      <td>NaN</td>\n",
       "      <td>0.000000</td>\n",
       "      <td>NaN</td>\n",
       "      <td>-1.000000</td>\n",
       "      <td>0.000000</td>\n",
       "      <td>NaN</td>\n",
       "      <td>NaN</td>\n",
       "    </tr>\n",
       "    <tr>\n",
       "      <th>25%</th>\n",
       "      <td>32.000000</td>\n",
       "      <td>NaN</td>\n",
       "      <td>NaN</td>\n",
       "      <td>NaN</td>\n",
       "      <td>0.000000</td>\n",
       "      <td>NaN</td>\n",
       "      <td>11.000000</td>\n",
       "      <td>20.000000</td>\n",
       "      <td>NaN</td>\n",
       "      <td>NaN</td>\n",
       "    </tr>\n",
       "    <tr>\n",
       "      <th>50%</th>\n",
       "      <td>36.000000</td>\n",
       "      <td>NaN</td>\n",
       "      <td>NaN</td>\n",
       "      <td>NaN</td>\n",
       "      <td>4.630000</td>\n",
       "      <td>NaN</td>\n",
       "      <td>26.500000</td>\n",
       "      <td>33.000000</td>\n",
       "      <td>NaN</td>\n",
       "      <td>NaN</td>\n",
       "    </tr>\n",
       "    <tr>\n",
       "      <th>75%</th>\n",
       "      <td>42.000000</td>\n",
       "      <td>NaN</td>\n",
       "      <td>NaN</td>\n",
       "      <td>NaN</td>\n",
       "      <td>17.235000</td>\n",
       "      <td>NaN</td>\n",
       "      <td>63.000000</td>\n",
       "      <td>69.000000</td>\n",
       "      <td>NaN</td>\n",
       "      <td>NaN</td>\n",
       "    </tr>\n",
       "    <tr>\n",
       "      <th>max</th>\n",
       "      <td>84.000000</td>\n",
       "      <td>NaN</td>\n",
       "      <td>NaN</td>\n",
       "      <td>NaN</td>\n",
       "      <td>210.210000</td>\n",
       "      <td>NaN</td>\n",
       "      <td>4580.000000</td>\n",
       "      <td>539.000000</td>\n",
       "      <td>NaN</td>\n",
       "      <td>NaN</td>\n",
       "    </tr>\n",
       "  </tbody>\n",
       "</table>\n",
       "</div>"
      ],
      "text/plain": [
       "                Age Agency_Code           Type Claimed    Commision Channel  \\\n",
       "count   3000.000000        3000           3000    3000  3000.000000    3000   \n",
       "unique          NaN           4              2       2          NaN       2   \n",
       "top             NaN         EPX  Travel Agency      No          NaN  Online   \n",
       "freq            NaN        1365           1837    2076          NaN    2954   \n",
       "mean      38.091000         NaN            NaN     NaN    14.529203     NaN   \n",
       "std       10.463518         NaN            NaN     NaN    25.481455     NaN   \n",
       "min        8.000000         NaN            NaN     NaN     0.000000     NaN   \n",
       "25%       32.000000         NaN            NaN     NaN     0.000000     NaN   \n",
       "50%       36.000000         NaN            NaN     NaN     4.630000     NaN   \n",
       "75%       42.000000         NaN            NaN     NaN    17.235000     NaN   \n",
       "max       84.000000         NaN            NaN     NaN   210.210000     NaN   \n",
       "\n",
       "           Duration        Sales     Product_Name Destination  \n",
       "count   3000.000000  3000.000000             3000        3000  \n",
       "unique          NaN          NaN                5           3  \n",
       "top             NaN          NaN  Customised Plan        ASIA  \n",
       "freq            NaN          NaN             1136        2465  \n",
       "mean      70.001333    60.249913              NaN         NaN  \n",
       "std      134.053313    70.733954              NaN         NaN  \n",
       "min       -1.000000     0.000000              NaN         NaN  \n",
       "25%       11.000000    20.000000              NaN         NaN  \n",
       "50%       26.500000    33.000000              NaN         NaN  \n",
       "75%       63.000000    69.000000              NaN         NaN  \n",
       "max     4580.000000   539.000000              NaN         NaN  "
      ]
     },
     "execution_count": 8,
     "metadata": {},
     "output_type": "execute_result"
    }
   ],
   "source": [
    "#describe\n",
    "data_insurance_frame.describe(include='all')"
   ]
  },
  {
   "cell_type": "code",
   "execution_count": 9,
   "metadata": {},
   "outputs": [
    {
     "name": "stdout",
     "output_type": "stream",
     "text": [
      "Number of duplicate rows = 139\n"
     ]
    },
    {
     "data": {
      "text/html": [
       "<div>\n",
       "<style scoped>\n",
       "    .dataframe tbody tr th:only-of-type {\n",
       "        vertical-align: middle;\n",
       "    }\n",
       "\n",
       "    .dataframe tbody tr th {\n",
       "        vertical-align: top;\n",
       "    }\n",
       "\n",
       "    .dataframe thead th {\n",
       "        text-align: right;\n",
       "    }\n",
       "</style>\n",
       "<table border=\"1\" class=\"dataframe\">\n",
       "  <thead>\n",
       "    <tr style=\"text-align: right;\">\n",
       "      <th></th>\n",
       "      <th>Age</th>\n",
       "      <th>Agency_Code</th>\n",
       "      <th>Type</th>\n",
       "      <th>Claimed</th>\n",
       "      <th>Commision</th>\n",
       "      <th>Channel</th>\n",
       "      <th>Duration</th>\n",
       "      <th>Sales</th>\n",
       "      <th>Product_Name</th>\n",
       "      <th>Destination</th>\n",
       "    </tr>\n",
       "  </thead>\n",
       "  <tbody>\n",
       "    <tr>\n",
       "      <th>63</th>\n",
       "      <td>30</td>\n",
       "      <td>C2B</td>\n",
       "      <td>Airlines</td>\n",
       "      <td>Yes</td>\n",
       "      <td>15.0</td>\n",
       "      <td>Online</td>\n",
       "      <td>27</td>\n",
       "      <td>60.0</td>\n",
       "      <td>Bronze Plan</td>\n",
       "      <td>ASIA</td>\n",
       "    </tr>\n",
       "    <tr>\n",
       "      <th>329</th>\n",
       "      <td>36</td>\n",
       "      <td>EPX</td>\n",
       "      <td>Travel Agency</td>\n",
       "      <td>No</td>\n",
       "      <td>0.0</td>\n",
       "      <td>Online</td>\n",
       "      <td>5</td>\n",
       "      <td>20.0</td>\n",
       "      <td>Customised Plan</td>\n",
       "      <td>ASIA</td>\n",
       "    </tr>\n",
       "    <tr>\n",
       "      <th>407</th>\n",
       "      <td>36</td>\n",
       "      <td>EPX</td>\n",
       "      <td>Travel Agency</td>\n",
       "      <td>No</td>\n",
       "      <td>0.0</td>\n",
       "      <td>Online</td>\n",
       "      <td>11</td>\n",
       "      <td>19.0</td>\n",
       "      <td>Cancellation Plan</td>\n",
       "      <td>ASIA</td>\n",
       "    </tr>\n",
       "    <tr>\n",
       "      <th>411</th>\n",
       "      <td>35</td>\n",
       "      <td>EPX</td>\n",
       "      <td>Travel Agency</td>\n",
       "      <td>No</td>\n",
       "      <td>0.0</td>\n",
       "      <td>Online</td>\n",
       "      <td>2</td>\n",
       "      <td>20.0</td>\n",
       "      <td>Customised Plan</td>\n",
       "      <td>ASIA</td>\n",
       "    </tr>\n",
       "    <tr>\n",
       "      <th>422</th>\n",
       "      <td>36</td>\n",
       "      <td>EPX</td>\n",
       "      <td>Travel Agency</td>\n",
       "      <td>No</td>\n",
       "      <td>0.0</td>\n",
       "      <td>Online</td>\n",
       "      <td>5</td>\n",
       "      <td>20.0</td>\n",
       "      <td>Customised Plan</td>\n",
       "      <td>ASIA</td>\n",
       "    </tr>\n",
       "    <tr>\n",
       "      <th>...</th>\n",
       "      <td>...</td>\n",
       "      <td>...</td>\n",
       "      <td>...</td>\n",
       "      <td>...</td>\n",
       "      <td>...</td>\n",
       "      <td>...</td>\n",
       "      <td>...</td>\n",
       "      <td>...</td>\n",
       "      <td>...</td>\n",
       "      <td>...</td>\n",
       "    </tr>\n",
       "    <tr>\n",
       "      <th>2940</th>\n",
       "      <td>36</td>\n",
       "      <td>EPX</td>\n",
       "      <td>Travel Agency</td>\n",
       "      <td>No</td>\n",
       "      <td>0.0</td>\n",
       "      <td>Online</td>\n",
       "      <td>8</td>\n",
       "      <td>10.0</td>\n",
       "      <td>Cancellation Plan</td>\n",
       "      <td>ASIA</td>\n",
       "    </tr>\n",
       "    <tr>\n",
       "      <th>2947</th>\n",
       "      <td>36</td>\n",
       "      <td>EPX</td>\n",
       "      <td>Travel Agency</td>\n",
       "      <td>No</td>\n",
       "      <td>0.0</td>\n",
       "      <td>Online</td>\n",
       "      <td>10</td>\n",
       "      <td>28.0</td>\n",
       "      <td>Customised Plan</td>\n",
       "      <td>ASIA</td>\n",
       "    </tr>\n",
       "    <tr>\n",
       "      <th>2952</th>\n",
       "      <td>36</td>\n",
       "      <td>EPX</td>\n",
       "      <td>Travel Agency</td>\n",
       "      <td>No</td>\n",
       "      <td>0.0</td>\n",
       "      <td>Online</td>\n",
       "      <td>2</td>\n",
       "      <td>10.0</td>\n",
       "      <td>Cancellation Plan</td>\n",
       "      <td>ASIA</td>\n",
       "    </tr>\n",
       "    <tr>\n",
       "      <th>2962</th>\n",
       "      <td>36</td>\n",
       "      <td>EPX</td>\n",
       "      <td>Travel Agency</td>\n",
       "      <td>No</td>\n",
       "      <td>0.0</td>\n",
       "      <td>Online</td>\n",
       "      <td>4</td>\n",
       "      <td>20.0</td>\n",
       "      <td>Customised Plan</td>\n",
       "      <td>ASIA</td>\n",
       "    </tr>\n",
       "    <tr>\n",
       "      <th>2984</th>\n",
       "      <td>36</td>\n",
       "      <td>EPX</td>\n",
       "      <td>Travel Agency</td>\n",
       "      <td>No</td>\n",
       "      <td>0.0</td>\n",
       "      <td>Online</td>\n",
       "      <td>1</td>\n",
       "      <td>20.0</td>\n",
       "      <td>Customised Plan</td>\n",
       "      <td>ASIA</td>\n",
       "    </tr>\n",
       "  </tbody>\n",
       "</table>\n",
       "<p>139 rows × 10 columns</p>\n",
       "</div>"
      ],
      "text/plain": [
       "      Age Agency_Code           Type Claimed  Commision Channel  Duration  \\\n",
       "63     30         C2B       Airlines     Yes       15.0  Online        27   \n",
       "329    36         EPX  Travel Agency      No        0.0  Online         5   \n",
       "407    36         EPX  Travel Agency      No        0.0  Online        11   \n",
       "411    35         EPX  Travel Agency      No        0.0  Online         2   \n",
       "422    36         EPX  Travel Agency      No        0.0  Online         5   \n",
       "...   ...         ...            ...     ...        ...     ...       ...   \n",
       "2940   36         EPX  Travel Agency      No        0.0  Online         8   \n",
       "2947   36         EPX  Travel Agency      No        0.0  Online        10   \n",
       "2952   36         EPX  Travel Agency      No        0.0  Online         2   \n",
       "2962   36         EPX  Travel Agency      No        0.0  Online         4   \n",
       "2984   36         EPX  Travel Agency      No        0.0  Online         1   \n",
       "\n",
       "      Sales       Product_Name Destination  \n",
       "63     60.0        Bronze Plan        ASIA  \n",
       "329    20.0    Customised Plan        ASIA  \n",
       "407    19.0  Cancellation Plan        ASIA  \n",
       "411    20.0    Customised Plan        ASIA  \n",
       "422    20.0    Customised Plan        ASIA  \n",
       "...     ...                ...         ...  \n",
       "2940   10.0  Cancellation Plan        ASIA  \n",
       "2947   28.0    Customised Plan        ASIA  \n",
       "2952   10.0  Cancellation Plan        ASIA  \n",
       "2962   20.0    Customised Plan        ASIA  \n",
       "2984   20.0    Customised Plan        ASIA  \n",
       "\n",
       "[139 rows x 10 columns]"
      ]
     },
     "execution_count": 9,
     "metadata": {},
     "output_type": "execute_result"
    }
   ],
   "source": [
    "#Checking the count of duplicate counts\n",
    "dups = data_insurance_frame.duplicated()\n",
    "print('Number of duplicate rows = %d' % (dups.sum()))\n",
    "\n",
    "data_insurance_frame[dups]"
   ]
  },
  {
   "cell_type": "code",
   "execution_count": 10,
   "metadata": {},
   "outputs": [
    {
     "name": "stdout",
     "output_type": "stream",
     "text": [
      "Skewness of the Dataset:\n",
      " Age           1.149713\n",
      "Commision     3.148858\n",
      "Duration     13.784681\n",
      "Sales         2.381148\n",
      "dtype: float64\n"
     ]
    }
   ],
   "source": [
    "#shewness check\n",
    "skew = data_insurance_frame.skew() \n",
    "print(\"Skewness of the Dataset:\\n\",skew)"
   ]
  },
  {
   "cell_type": "code",
   "execution_count": 11,
   "metadata": {},
   "outputs": [
    {
     "name": "stdout",
     "output_type": "stream",
     "text": [
      "Age          0.274698\n",
      "Commision    1.753809\n",
      "Duration     1.915011\n",
      "Sales        1.174009\n",
      "dtype: float64\n"
     ]
    }
   ],
   "source": [
    "cv = data_insurance_frame.std()/data_insurance_frame.mean()\n",
    "print(cv)"
   ]
  },
  {
   "cell_type": "code",
   "execution_count": 12,
   "metadata": {},
   "outputs": [
    {
     "data": {
      "image/png": "[encoded data removed]",
      "text/plain": [
       "<Figure size 2160x1296 with 8 Axes>"
      ]
     },
     "metadata": {
      "needs_background": "light"
     },
     "output_type": "display_data"
    }
   ],
   "source": [
    "#univariate analysis\n",
    "fig, axes = plt.subplots(nrows=4,ncols=2)\n",
    "fig.set_size_inches(30, 18)\n",
    "\n",
    "a = sns.distplot(data_insurance_frame['Age'] , ax=axes[0][0])\n",
    "a.set_title(\"Age Distribution\",fontsize=15)\n",
    "a = sns.boxplot(data_insurance_frame['Age'] , orient = \"v\" , ax=axes[0][1])\n",
    "a.set_title(\"Age Distribution\",fontsize=15)\n",
    "\n",
    "a = sns.distplot(data_insurance_frame['Commision'] , ax=axes[1][0])\n",
    "a.set_title(\"Commision\",fontsize=15)\n",
    "a = sns.boxplot(data_insurance_frame['Commision'] , orient = \"v\" , ax=axes[1][1])\n",
    "a.set_title(\"Commision\",fontsize=15)\n",
    "\n",
    "a = sns.distplot(data_insurance_frame['Duration'] , ax=axes[2][0])\n",
    "a.set_title(\"Duration Distribution\",fontsize=15)\n",
    "a = sns.boxplot(data_insurance_frame['Duration'] , orient = \"v\" , ax=axes[2][1])\n",
    "a.set_title(\"Duration Distribution\",fontsize=15)\n",
    "\n",
    "a = sns.distplot(data_insurance_frame['Sales'] , ax=axes[3][0])\n",
    "a.set_title(\"Sales Distribution\",fontsize=15)\n",
    "a = sns.boxplot(data_insurance_frame['Sales'] , orient = \"v\" , ax=axes[3][1])\n",
    "a.set_title(\"Sales Distribution\",fontsize=15)\n",
    "\n",
    "\n",
    "plt.show()"
   ]
  },
  {
   "cell_type": "code",
   "execution_count": 13,
   "metadata": {},
   "outputs": [
    {
     "data": {
      "text/html": [
       "<div>\n",
       "<style scoped>\n",
       "    .dataframe tbody tr th:only-of-type {\n",
       "        vertical-align: middle;\n",
       "    }\n",
       "\n",
       "    .dataframe tbody tr th {\n",
       "        vertical-align: top;\n",
       "    }\n",
       "\n",
       "    .dataframe thead th {\n",
       "        text-align: right;\n",
       "    }\n",
       "</style>\n",
       "<table border=\"1\" class=\"dataframe\">\n",
       "  <thead>\n",
       "    <tr style=\"text-align: right;\">\n",
       "      <th></th>\n",
       "      <th>Age</th>\n",
       "      <th>Agency_Code</th>\n",
       "      <th>Type</th>\n",
       "      <th>Claimed</th>\n",
       "      <th>Commision</th>\n",
       "      <th>Channel</th>\n",
       "      <th>Duration</th>\n",
       "      <th>Sales</th>\n",
       "      <th>Product_Name</th>\n",
       "      <th>Destination</th>\n",
       "    </tr>\n",
       "  </thead>\n",
       "  <tbody>\n",
       "    <tr>\n",
       "      <th>1508</th>\n",
       "      <td>25</td>\n",
       "      <td>JZI</td>\n",
       "      <td>Airlines</td>\n",
       "      <td>No</td>\n",
       "      <td>6.30</td>\n",
       "      <td>Online</td>\n",
       "      <td>-1</td>\n",
       "      <td>18.00</td>\n",
       "      <td>Bronze Plan</td>\n",
       "      <td>ASIA</td>\n",
       "    </tr>\n",
       "    <tr>\n",
       "      <th>1746</th>\n",
       "      <td>48</td>\n",
       "      <td>C2B</td>\n",
       "      <td>Airlines</td>\n",
       "      <td>No</td>\n",
       "      <td>0.14</td>\n",
       "      <td>Online</td>\n",
       "      <td>0</td>\n",
       "      <td>0.51</td>\n",
       "      <td>Customised Plan</td>\n",
       "      <td>ASIA</td>\n",
       "    </tr>\n",
       "    <tr>\n",
       "      <th>2628</th>\n",
       "      <td>37</td>\n",
       "      <td>C2B</td>\n",
       "      <td>Airlines</td>\n",
       "      <td>No</td>\n",
       "      <td>49.60</td>\n",
       "      <td>Online</td>\n",
       "      <td>0</td>\n",
       "      <td>124.00</td>\n",
       "      <td>Bronze Plan</td>\n",
       "      <td>ASIA</td>\n",
       "    </tr>\n",
       "  </tbody>\n",
       "</table>\n",
       "</div>"
      ],
      "text/plain": [
       "      Age Agency_Code      Type Claimed  Commision Channel  Duration   Sales  \\\n",
       "1508   25         JZI  Airlines      No       6.30  Online        -1   18.00   \n",
       "1746   48         C2B  Airlines      No       0.14  Online         0    0.51   \n",
       "2628   37         C2B  Airlines      No      49.60  Online         0  124.00   \n",
       "\n",
       "         Product_Name Destination  \n",
       "1508      Bronze Plan        ASIA  \n",
       "1746  Customised Plan        ASIA  \n",
       "2628      Bronze Plan        ASIA  "
      ]
     },
     "execution_count": 13,
     "metadata": {},
     "output_type": "execute_result"
    }
   ],
   "source": [
    "#invalid data removal \n",
    "data_insurance_frame.loc[data_insurance_frame['Duration'] < 1]"
   ]
  },
  {
   "cell_type": "code",
   "execution_count": 14,
   "metadata": {},
   "outputs": [],
   "source": [
    "data_insurance_frame['Duration'].replace(0,data_insurance_frame['Duration'].median(),inplace=True)"
   ]
  },
  {
   "cell_type": "code",
   "execution_count": 15,
   "metadata": {},
   "outputs": [],
   "source": [
    "data_insurance_frame['Duration'].replace(-1,data_insurance_frame['Duration'].median(),inplace=True)"
   ]
  },
  {
   "cell_type": "code",
   "execution_count": 16,
   "metadata": {},
   "outputs": [],
   "source": [
    "data_insurance_frame['Duration'].replace(-1,data_insurance_frame['Duration'].median(),inplace=True)"
   ]
  },
  {
   "cell_type": "code",
   "execution_count": 17,
   "metadata": {},
   "outputs": [
    {
     "data": {
      "text/plain": [
       "Age             0\n",
       "Agency_Code     0\n",
       "Type            0\n",
       "Claimed         0\n",
       "Commision       0\n",
       "Channel         0\n",
       "Duration        0\n",
       "Sales           0\n",
       "Product_Name    0\n",
       "Destination     0\n",
       "dtype: int64"
      ]
     },
     "execution_count": 17,
     "metadata": {},
     "output_type": "execute_result"
    }
   ],
   "source": [
    "#null value check\n",
    "data_insurance_frame.isnull().sum()"
   ]
  },
  {
   "cell_type": "code",
   "execution_count": 18,
   "metadata": {},
   "outputs": [
    {
     "data": {
      "text/html": [
       "<div>\n",
       "<style scoped>\n",
       "    .dataframe tbody tr th:only-of-type {\n",
       "        vertical-align: middle;\n",
       "    }\n",
       "\n",
       "    .dataframe tbody tr th {\n",
       "        vertical-align: top;\n",
       "    }\n",
       "\n",
       "    .dataframe thead th {\n",
       "        text-align: right;\n",
       "    }\n",
       "</style>\n",
       "<table border=\"1\" class=\"dataframe\">\n",
       "  <thead>\n",
       "    <tr style=\"text-align: right;\">\n",
       "      <th></th>\n",
       "      <th>Age</th>\n",
       "      <th>Commision</th>\n",
       "      <th>Duration</th>\n",
       "      <th>Sales</th>\n",
       "    </tr>\n",
       "  </thead>\n",
       "  <tbody>\n",
       "    <tr>\n",
       "      <th>Age</th>\n",
       "      <td>109.485214</td>\n",
       "      <td>18.055091</td>\n",
       "      <td>42.633224</td>\n",
       "      <td>29.201372</td>\n",
       "    </tr>\n",
       "    <tr>\n",
       "      <th>Commision</th>\n",
       "      <td>18.055091</td>\n",
       "      <td>649.304524</td>\n",
       "      <td>1610.310722</td>\n",
       "      <td>1381.552303</td>\n",
       "    </tr>\n",
       "    <tr>\n",
       "      <th>Duration</th>\n",
       "      <td>42.633224</td>\n",
       "      <td>1610.310722</td>\n",
       "      <td>17967.226965</td>\n",
       "      <td>5299.485977</td>\n",
       "    </tr>\n",
       "    <tr>\n",
       "      <th>Sales</th>\n",
       "      <td>29.201372</td>\n",
       "      <td>1381.552303</td>\n",
       "      <td>5299.485977</td>\n",
       "      <td>5003.292182</td>\n",
       "    </tr>\n",
       "  </tbody>\n",
       "</table>\n",
       "</div>"
      ],
      "text/plain": [
       "                  Age    Commision      Duration        Sales\n",
       "Age        109.485214    18.055091     42.633224    29.201372\n",
       "Commision   18.055091   649.304524   1610.310722  1381.552303\n",
       "Duration    42.633224  1610.310722  17967.226965  5299.485977\n",
       "Sales       29.201372  1381.552303   5299.485977  5003.292182"
      ]
     },
     "execution_count": 18,
     "metadata": {},
     "output_type": "execute_result"
    }
   ],
   "source": [
    "#covariance check\n",
    "data_insurance_frame.cov()"
   ]
  },
  {
   "cell_type": "code",
   "execution_count": 19,
   "metadata": {},
   "outputs": [
    {
     "data": {
      "text/html": [
       "<div>\n",
       "<style scoped>\n",
       "    .dataframe tbody tr th:only-of-type {\n",
       "        vertical-align: middle;\n",
       "    }\n",
       "\n",
       "    .dataframe tbody tr th {\n",
       "        vertical-align: top;\n",
       "    }\n",
       "\n",
       "    .dataframe thead th {\n",
       "        text-align: right;\n",
       "    }\n",
       "</style>\n",
       "<table border=\"1\" class=\"dataframe\">\n",
       "  <thead>\n",
       "    <tr style=\"text-align: right;\">\n",
       "      <th></th>\n",
       "      <th>Age</th>\n",
       "      <th>Commision</th>\n",
       "      <th>Duration</th>\n",
       "      <th>Sales</th>\n",
       "    </tr>\n",
       "  </thead>\n",
       "  <tbody>\n",
       "    <tr>\n",
       "      <th>Age</th>\n",
       "      <td>1.000000</td>\n",
       "      <td>0.067717</td>\n",
       "      <td>0.030397</td>\n",
       "      <td>0.039455</td>\n",
       "    </tr>\n",
       "    <tr>\n",
       "      <th>Commision</th>\n",
       "      <td>0.067717</td>\n",
       "      <td>1.000000</td>\n",
       "      <td>0.471460</td>\n",
       "      <td>0.766505</td>\n",
       "    </tr>\n",
       "    <tr>\n",
       "      <th>Duration</th>\n",
       "      <td>0.030397</td>\n",
       "      <td>0.471460</td>\n",
       "      <td>1.000000</td>\n",
       "      <td>0.558940</td>\n",
       "    </tr>\n",
       "    <tr>\n",
       "      <th>Sales</th>\n",
       "      <td>0.039455</td>\n",
       "      <td>0.766505</td>\n",
       "      <td>0.558940</td>\n",
       "      <td>1.000000</td>\n",
       "    </tr>\n",
       "  </tbody>\n",
       "</table>\n",
       "</div>"
      ],
      "text/plain": [
       "                Age  Commision  Duration     Sales\n",
       "Age        1.000000   0.067717  0.030397  0.039455\n",
       "Commision  0.067717   1.000000  0.471460  0.766505\n",
       "Duration   0.030397   0.471460  1.000000  0.558940\n",
       "Sales      0.039455   0.766505  0.558940  1.000000"
      ]
     },
     "execution_count": 19,
     "metadata": {},
     "output_type": "execute_result"
    }
   ],
   "source": [
    "#correlation check\n",
    "data_insurance_frame.corr()"
   ]
  },
  {
   "cell_type": "code",
   "execution_count": 20,
   "metadata": {},
   "outputs": [
    {
     "data": {
      "text/html": [
       "<div>\n",
       "<style scoped>\n",
       "    .dataframe tbody tr th:only-of-type {\n",
       "        vertical-align: middle;\n",
       "    }\n",
       "\n",
       "    .dataframe tbody tr th {\n",
       "        vertical-align: top;\n",
       "    }\n",
       "\n",
       "    .dataframe thead th {\n",
       "        text-align: right;\n",
       "    }\n",
       "</style>\n",
       "<table border=\"1\" class=\"dataframe\">\n",
       "  <thead>\n",
       "    <tr style=\"text-align: right;\">\n",
       "      <th></th>\n",
       "      <th>Age</th>\n",
       "      <th>Agency_Code</th>\n",
       "      <th>Type</th>\n",
       "      <th>Claimed</th>\n",
       "      <th>Commision</th>\n",
       "      <th>Channel</th>\n",
       "      <th>Duration</th>\n",
       "      <th>Sales</th>\n",
       "      <th>Product_Name</th>\n",
       "      <th>Destination</th>\n",
       "    </tr>\n",
       "  </thead>\n",
       "  <tbody>\n",
       "    <tr>\n",
       "      <th>0</th>\n",
       "      <td>48</td>\n",
       "      <td>C2B</td>\n",
       "      <td>Airlines</td>\n",
       "      <td>No</td>\n",
       "      <td>0.70</td>\n",
       "      <td>Online</td>\n",
       "      <td>7.0</td>\n",
       "      <td>2.51</td>\n",
       "      <td>Customised Plan</td>\n",
       "      <td>ASIA</td>\n",
       "    </tr>\n",
       "    <tr>\n",
       "      <th>1</th>\n",
       "      <td>36</td>\n",
       "      <td>EPX</td>\n",
       "      <td>Travel Agency</td>\n",
       "      <td>No</td>\n",
       "      <td>0.00</td>\n",
       "      <td>Online</td>\n",
       "      <td>34.0</td>\n",
       "      <td>20.00</td>\n",
       "      <td>Customised Plan</td>\n",
       "      <td>ASIA</td>\n",
       "    </tr>\n",
       "    <tr>\n",
       "      <th>2</th>\n",
       "      <td>39</td>\n",
       "      <td>CWT</td>\n",
       "      <td>Travel Agency</td>\n",
       "      <td>No</td>\n",
       "      <td>5.94</td>\n",
       "      <td>Online</td>\n",
       "      <td>3.0</td>\n",
       "      <td>9.90</td>\n",
       "      <td>Customised Plan</td>\n",
       "      <td>Americas</td>\n",
       "    </tr>\n",
       "    <tr>\n",
       "      <th>3</th>\n",
       "      <td>36</td>\n",
       "      <td>EPX</td>\n",
       "      <td>Travel Agency</td>\n",
       "      <td>No</td>\n",
       "      <td>0.00</td>\n",
       "      <td>Online</td>\n",
       "      <td>4.0</td>\n",
       "      <td>26.00</td>\n",
       "      <td>Cancellation Plan</td>\n",
       "      <td>ASIA</td>\n",
       "    </tr>\n",
       "    <tr>\n",
       "      <th>4</th>\n",
       "      <td>33</td>\n",
       "      <td>JZI</td>\n",
       "      <td>Airlines</td>\n",
       "      <td>No</td>\n",
       "      <td>6.30</td>\n",
       "      <td>Online</td>\n",
       "      <td>53.0</td>\n",
       "      <td>18.00</td>\n",
       "      <td>Bronze Plan</td>\n",
       "      <td>ASIA</td>\n",
       "    </tr>\n",
       "    <tr>\n",
       "      <th>...</th>\n",
       "      <td>...</td>\n",
       "      <td>...</td>\n",
       "      <td>...</td>\n",
       "      <td>...</td>\n",
       "      <td>...</td>\n",
       "      <td>...</td>\n",
       "      <td>...</td>\n",
       "      <td>...</td>\n",
       "      <td>...</td>\n",
       "      <td>...</td>\n",
       "    </tr>\n",
       "    <tr>\n",
       "      <th>2995</th>\n",
       "      <td>28</td>\n",
       "      <td>CWT</td>\n",
       "      <td>Travel Agency</td>\n",
       "      <td>Yes</td>\n",
       "      <td>166.53</td>\n",
       "      <td>Online</td>\n",
       "      <td>364.0</td>\n",
       "      <td>256.20</td>\n",
       "      <td>Gold Plan</td>\n",
       "      <td>Americas</td>\n",
       "    </tr>\n",
       "    <tr>\n",
       "      <th>2996</th>\n",
       "      <td>35</td>\n",
       "      <td>C2B</td>\n",
       "      <td>Airlines</td>\n",
       "      <td>No</td>\n",
       "      <td>13.50</td>\n",
       "      <td>Online</td>\n",
       "      <td>5.0</td>\n",
       "      <td>54.00</td>\n",
       "      <td>Gold Plan</td>\n",
       "      <td>ASIA</td>\n",
       "    </tr>\n",
       "    <tr>\n",
       "      <th>2997</th>\n",
       "      <td>36</td>\n",
       "      <td>EPX</td>\n",
       "      <td>Travel Agency</td>\n",
       "      <td>No</td>\n",
       "      <td>0.00</td>\n",
       "      <td>Online</td>\n",
       "      <td>54.0</td>\n",
       "      <td>28.00</td>\n",
       "      <td>Customised Plan</td>\n",
       "      <td>ASIA</td>\n",
       "    </tr>\n",
       "    <tr>\n",
       "      <th>2998</th>\n",
       "      <td>34</td>\n",
       "      <td>C2B</td>\n",
       "      <td>Airlines</td>\n",
       "      <td>Yes</td>\n",
       "      <td>7.64</td>\n",
       "      <td>Online</td>\n",
       "      <td>39.0</td>\n",
       "      <td>30.55</td>\n",
       "      <td>Bronze Plan</td>\n",
       "      <td>ASIA</td>\n",
       "    </tr>\n",
       "    <tr>\n",
       "      <th>2999</th>\n",
       "      <td>47</td>\n",
       "      <td>JZI</td>\n",
       "      <td>Airlines</td>\n",
       "      <td>No</td>\n",
       "      <td>11.55</td>\n",
       "      <td>Online</td>\n",
       "      <td>15.0</td>\n",
       "      <td>33.00</td>\n",
       "      <td>Bronze Plan</td>\n",
       "      <td>ASIA</td>\n",
       "    </tr>\n",
       "  </tbody>\n",
       "</table>\n",
       "<p>3000 rows × 10 columns</p>\n",
       "</div>"
      ],
      "text/plain": [
       "      Age Agency_Code           Type Claimed  Commision Channel  Duration  \\\n",
       "0      48         C2B       Airlines      No       0.70  Online       7.0   \n",
       "1      36         EPX  Travel Agency      No       0.00  Online      34.0   \n",
       "2      39         CWT  Travel Agency      No       5.94  Online       3.0   \n",
       "3      36         EPX  Travel Agency      No       0.00  Online       4.0   \n",
       "4      33         JZI       Airlines      No       6.30  Online      53.0   \n",
       "...   ...         ...            ...     ...        ...     ...       ...   \n",
       "2995   28         CWT  Travel Agency     Yes     166.53  Online     364.0   \n",
       "2996   35         C2B       Airlines      No      13.50  Online       5.0   \n",
       "2997   36         EPX  Travel Agency      No       0.00  Online      54.0   \n",
       "2998   34         C2B       Airlines     Yes       7.64  Online      39.0   \n",
       "2999   47         JZI       Airlines      No      11.55  Online      15.0   \n",
       "\n",
       "       Sales       Product_Name Destination  \n",
       "0       2.51    Customised Plan        ASIA  \n",
       "1      20.00    Customised Plan        ASIA  \n",
       "2       9.90    Customised Plan    Americas  \n",
       "3      26.00  Cancellation Plan        ASIA  \n",
       "4      18.00        Bronze Plan        ASIA  \n",
       "...      ...                ...         ...  \n",
       "2995  256.20          Gold Plan    Americas  \n",
       "2996   54.00          Gold Plan        ASIA  \n",
       "2997   28.00    Customised Plan        ASIA  \n",
       "2998   30.55        Bronze Plan        ASIA  \n",
       "2999   33.00        Bronze Plan        ASIA  \n",
       "\n",
       "[3000 rows x 10 columns]"
      ]
     },
     "execution_count": 20,
     "metadata": {},
     "output_type": "execute_result"
    }
   ],
   "source": [
    "data_insurance_frame"
   ]
  },
  {
   "cell_type": "code",
   "execution_count": 21,
   "metadata": {},
   "outputs": [],
   "source": [
    "data_insurance_frame_corr = data_insurance_frame[['Age','Commision','Duration','Sales']]"
   ]
  },
  {
   "cell_type": "code",
   "execution_count": 22,
   "metadata": {},
   "outputs": [
    {
     "data": {
      "image/png": "[encoded data removed]",
      "text/plain": [
       "<Figure size 1440x720 with 2 Axes>"
      ]
     },
     "metadata": {
      "needs_background": "light"
     },
     "output_type": "display_data"
    }
   ],
   "source": [
    "# Heatmap generation\n",
    "fig,ax = plt.subplots(figsize=(20,10))   \n",
    "sns.heatmap(data_insurance_frame_corr.corr(), ax=ax, annot=True, linewidths=0.05, fmt= '.2f',cmap=\"cubehelix\",cbar_kws={'label': 'Color Palatte Range'})\n",
    "plt.show()"
   ]
  },
  {
   "cell_type": "code",
   "execution_count": 23,
   "metadata": {},
   "outputs": [
    {
     "data": {
      "image/png": "[encoded data removed]",
      "text/plain": [
       "<Figure size 720x720 with 20 Axes>"
      ]
     },
     "metadata": {
      "needs_background": "light"
     },
     "output_type": "display_data"
    }
   ],
   "source": [
    "#Bivariate analysis - Pair plot\n",
    "sns.pairplot(data_insurance_frame, kind=\"reg\")  \n",
    "plt.show()"
   ]
  },
  {
   "cell_type": "code",
   "execution_count": 24,
   "metadata": {},
   "outputs": [
    {
     "name": "stdout",
     "output_type": "stream",
     "text": [
      "<class 'pandas.core.frame.DataFrame'>\n",
      "RangeIndex: 3000 entries, 0 to 2999\n",
      "Data columns (total 10 columns):\n",
      " #   Column        Non-Null Count  Dtype  \n",
      "---  ------        --------------  -----  \n",
      " 0   Age           3000 non-null   int64  \n",
      " 1   Agency_Code   3000 non-null   object \n",
      " 2   Type          3000 non-null   object \n",
      " 3   Claimed       3000 non-null   object \n",
      " 4   Commision     3000 non-null   float64\n",
      " 5   Channel       3000 non-null   object \n",
      " 6   Duration      3000 non-null   float64\n",
      " 7   Sales         3000 non-null   float64\n",
      " 8   Product_Name  3000 non-null   object \n",
      " 9   Destination   3000 non-null   object \n",
      "dtypes: float64(3), int64(1), object(6)\n",
      "memory usage: 234.5+ KB\n"
     ]
    }
   ],
   "source": [
    "#before categorical conversion\n",
    "data_insurance_frame.info()"
   ]
  },
  {
   "cell_type": "code",
   "execution_count": 25,
   "metadata": {
    "scrolled": true
   },
   "outputs": [
    {
     "name": "stdout",
     "output_type": "stream",
     "text": [
      "\n",
      "\n",
      "feature: Agency_Code\n",
      "['C2B', 'EPX', 'CWT', 'JZI']\n",
      "Categories (4, object): ['C2B', 'CWT', 'EPX', 'JZI']\n",
      "[0 2 1 3]\n",
      "\n",
      "\n",
      "feature: Type\n",
      "['Airlines', 'Travel Agency']\n",
      "Categories (2, object): ['Airlines', 'Travel Agency']\n",
      "[0 1]\n",
      "\n",
      "\n",
      "feature: Claimed\n",
      "['No', 'Yes']\n",
      "Categories (2, object): ['No', 'Yes']\n",
      "[0 1]\n",
      "\n",
      "\n",
      "feature: Channel\n",
      "['Online', 'Offline']\n",
      "Categories (2, object): ['Offline', 'Online']\n",
      "[1 0]\n",
      "\n",
      "\n",
      "feature: Product_Name\n",
      "['Customised Plan', 'Cancellation Plan', 'Bronze Plan', 'Silver Plan', 'Gold Plan']\n",
      "Categories (5, object): ['Bronze Plan', 'Cancellation Plan', 'Customised Plan', 'Gold Plan', 'Silver Plan']\n",
      "[2 1 0 4 3]\n",
      "\n",
      "\n",
      "feature: Destination\n",
      "['ASIA', 'Americas', 'EUROPE']\n",
      "Categories (3, object): ['ASIA', 'Americas', 'EUROPE']\n",
      "[0 1 2]\n"
     ]
    }
   ],
   "source": [
    "for feature in data_insurance_frame.columns: \n",
    "    if data_insurance_frame[feature].dtype == 'object': \n",
    "        print('\\n')\n",
    "        print('feature:',feature)\n",
    "        print(pd.Categorical(data_insurance_frame[feature].unique()))\n",
    "        print(pd.Categorical(data_insurance_frame[feature].unique()).codes)\n",
    "        data_insurance_frame[feature] = pd.Categorical(data_insurance_frame[feature]).codes"
   ]
  },
  {
   "cell_type": "code",
   "execution_count": 26,
   "metadata": {
    "scrolled": true
   },
   "outputs": [
    {
     "name": "stdout",
     "output_type": "stream",
     "text": [
      "<class 'pandas.core.frame.DataFrame'>\n",
      "RangeIndex: 3000 entries, 0 to 2999\n",
      "Data columns (total 10 columns):\n",
      " #   Column        Non-Null Count  Dtype  \n",
      "---  ------        --------------  -----  \n",
      " 0   Age           3000 non-null   int64  \n",
      " 1   Agency_Code   3000 non-null   int8   \n",
      " 2   Type          3000 non-null   int8   \n",
      " 3   Claimed       3000 non-null   int8   \n",
      " 4   Commision     3000 non-null   float64\n",
      " 5   Channel       3000 non-null   int8   \n",
      " 6   Duration      3000 non-null   float64\n",
      " 7   Sales         3000 non-null   float64\n",
      " 8   Product_Name  3000 non-null   int8   \n",
      " 9   Destination   3000 non-null   int8   \n",
      "dtypes: float64(3), int64(1), int8(6)\n",
      "memory usage: 111.5 KB\n"
     ]
    }
   ],
   "source": [
    "#after categorical conversion\n",
    "data_insurance_frame.info()"
   ]
  },
  {
   "cell_type": "code",
   "execution_count": 27,
   "metadata": {},
   "outputs": [],
   "source": [
    "#duplicates drop\n",
    "data_insurance_frame = data_insurance_frame.drop_duplicates()"
   ]
  },
  {
   "cell_type": "code",
   "execution_count": 28,
   "metadata": {},
   "outputs": [
    {
     "name": "stdout",
     "output_type": "stream",
     "text": [
      "Number of duplicate rows = 0\n"
     ]
    },
    {
     "data": {
      "text/html": [
       "<div>\n",
       "<style scoped>\n",
       "    .dataframe tbody tr th:only-of-type {\n",
       "        vertical-align: middle;\n",
       "    }\n",
       "\n",
       "    .dataframe tbody tr th {\n",
       "        vertical-align: top;\n",
       "    }\n",
       "\n",
       "    .dataframe thead th {\n",
       "        text-align: right;\n",
       "    }\n",
       "</style>\n",
       "<table border=\"1\" class=\"dataframe\">\n",
       "  <thead>\n",
       "    <tr style=\"text-align: right;\">\n",
       "      <th></th>\n",
       "      <th>Age</th>\n",
       "      <th>Agency_Code</th>\n",
       "      <th>Type</th>\n",
       "      <th>Claimed</th>\n",
       "      <th>Commision</th>\n",
       "      <th>Channel</th>\n",
       "      <th>Duration</th>\n",
       "      <th>Sales</th>\n",
       "      <th>Product_Name</th>\n",
       "      <th>Destination</th>\n",
       "    </tr>\n",
       "  </thead>\n",
       "  <tbody>\n",
       "  </tbody>\n",
       "</table>\n",
       "</div>"
      ],
      "text/plain": [
       "Empty DataFrame\n",
       "Columns: [Age, Agency_Code, Type, Claimed, Commision, Channel, Duration, Sales, Product_Name, Destination]\n",
       "Index: []"
      ]
     },
     "execution_count": 28,
     "metadata": {},
     "output_type": "execute_result"
    }
   ],
   "source": [
    "#check to see the confirmation\n",
    "dups = data_insurance_frame.duplicated()\n",
    "print('Number of duplicate rows = %d' % (dups.sum()))\n",
    "\n",
    "data_insurance_frame[dups].head(10)"
   ]
  },
  {
   "cell_type": "code",
   "execution_count": 29,
   "metadata": {},
   "outputs": [],
   "source": [
    "data_insurance_frame_woutliers = data_insurance_frame.copy()"
   ]
  },
  {
   "cell_type": "code",
   "execution_count": 30,
   "metadata": {},
   "outputs": [],
   "source": [
    "#outlier removal function\n",
    "def remove_outlier(col):\n",
    "    sorted(col)\n",
    "    Q1,Q3=np.percentile(col,[25,75])\n",
    "    IQR=Q3-Q1\n",
    "    lower_range= Q1-(1.5 * IQR)\n",
    "    upper_range= Q3+(1.5 * IQR)\n",
    "    return lower_range, upper_range"
   ]
  },
  {
   "cell_type": "code",
   "execution_count": 31,
   "metadata": {},
   "outputs": [],
   "source": [
    "#removing outliers\n",
    "lratio,uratio=remove_outlier(data_insurance_frame_woutliers['Age'])\n",
    "data_insurance_frame_woutliers['Age']=np.where(data_insurance_frame_woutliers['Age']>uratio,uratio,data_insurance_frame_woutliers['Age'])\n",
    "data_insurance_frame_woutliers['Age']=np.where(data_insurance_frame_woutliers['Age']<lratio,lratio,data_insurance_frame_woutliers['Age'])\n",
    "\n",
    "lraxis,uraxis=remove_outlier(data_insurance_frame_woutliers['Commision'])\n",
    "data_insurance_frame_woutliers['Commision']=np.where(data_insurance_frame_woutliers['Commision']>uraxis,uraxis,data_insurance_frame_woutliers['Commision'])\n",
    "data_insurance_frame_woutliers['Commision']=np.where(data_insurance_frame_woutliers['Commision']<lraxis,lraxis,data_insurance_frame_woutliers['Commision'])\n",
    "\n",
    "lraspect,uraspect=remove_outlier(data_insurance_frame_woutliers['Duration'])\n",
    "data_insurance_frame_woutliers['Duration']=np.where(data_insurance_frame_woutliers['Duration']>uraspect,uraspect,data_insurance_frame_woutliers['Duration'])\n",
    "data_insurance_frame_woutliers['Duration']=np.where(data_insurance_frame_woutliers['Duration']<lraspect,lraspect,data_insurance_frame_woutliers['Duration'])\n",
    "\n",
    "lrscaled_var,urscaled_var=remove_outlier(data_insurance_frame_woutliers['Sales'])\n",
    "data_insurance_frame_woutliers['Sales']=np.where(data_insurance_frame_woutliers['Sales']>urscaled_var,urscaled_var,data_insurance_frame_woutliers['Sales'])\n",
    "data_insurance_frame_woutliers['Sales']=np.where(data_insurance_frame_woutliers['Sales']<lrscaled_var,lrscaled_var,data_insurance_frame_woutliers['Sales'])\n",
    "\n"
   ]
  },
  {
   "cell_type": "code",
   "execution_count": 32,
   "metadata": {},
   "outputs": [
    {
     "data": {
      "image/png": "[encoded data removed]",
      "text/plain": [
       "<Figure size 432x288 with 1 Axes>"
      ]
     },
     "metadata": {
      "needs_background": "light"
     },
     "output_type": "display_data"
    }
   ],
   "source": [
    "a = sns.boxplot(data_insurance_frame_woutliers['Age'] , orient = \"v\" )"
   ]
  },
  {
   "cell_type": "code",
   "execution_count": 33,
   "metadata": {},
   "outputs": [
    {
     "data": {
      "text/plain": [
       "0    0.680531\n",
       "1    0.319469\n",
       "Name: Claimed, dtype: float64"
      ]
     },
     "execution_count": 33,
     "metadata": {},
     "output_type": "execute_result"
    }
   ],
   "source": [
    "#class imbalance check\n",
    "data_insurance_frame_woutliers.Claimed.value_counts(normalize=True)"
   ]
  },
  {
   "cell_type": "code",
   "execution_count": 34,
   "metadata": {},
   "outputs": [
    {
     "data": {
      "text/plain": [
       "0    0.680531\n",
       "1    0.319469\n",
       "Name: Claimed, dtype: float64"
      ]
     },
     "execution_count": 34,
     "metadata": {},
     "output_type": "execute_result"
    }
   ],
   "source": [
    "data_insurance_frame.Claimed.value_counts(normalize=True)"
   ]
  },
  {
   "cell_type": "markdown",
   "metadata": {},
   "source": [
    "# 2.2  Data Split: Split the data into test and train, build classification model CART, Random Forest, Artificial Neural Network"
   ]
  },
  {
   "cell_type": "code",
   "execution_count": 35,
   "metadata": {},
   "outputs": [],
   "source": [
    "#Split the data into test and train\n",
    "X = data_insurance_frame.drop(\"Claimed\", axis=1)\n",
    "y = data_insurance_frame.pop(\"Claimed\")\n",
    "\n",
    "#the one withour outliers\n",
    "X_a = data_insurance_frame_woutliers.drop(\"Claimed\", axis=1)\n",
    "y_a = data_insurance_frame_woutliers.pop(\"Claimed\")"
   ]
  },
  {
   "cell_type": "code",
   "execution_count": 36,
   "metadata": {},
   "outputs": [],
   "source": [
    "X_train, X_test, y_train, y_test = train_test_split(X, y, test_size=.30, random_state=1)"
   ]
  },
  {
   "cell_type": "code",
   "execution_count": 37,
   "metadata": {},
   "outputs": [],
   "source": [
    "X_train_a, X_test_a, y_train_a, y_test_a = train_test_split(X_a, y_a, test_size=.30, random_state=1)"
   ]
  },
  {
   "cell_type": "code",
   "execution_count": 38,
   "metadata": {},
   "outputs": [
    {
     "name": "stdout",
     "output_type": "stream",
     "text": [
      "X_train (2002, 9)\n",
      "X_test (859, 9)\n",
      "train_labels (2002,)\n",
      "test_labels (859,)\n"
     ]
    }
   ],
   "source": [
    "print('X_train',X_train.shape)\n",
    "print('X_test',X_test.shape)\n",
    "print('train_labels',y_train.shape)\n",
    "print('test_labels',y_test.shape)"
   ]
  },
  {
   "cell_type": "code",
   "execution_count": 39,
   "metadata": {},
   "outputs": [
    {
     "name": "stdout",
     "output_type": "stream",
     "text": [
      "X_train (2002, 9)\n",
      "X_test (859, 9)\n",
      "train_labels (2002,)\n",
      "test_labels (859,)\n"
     ]
    }
   ],
   "source": [
    "print('X_train',X_train_a.shape)\n",
    "print('X_test',X_test_a.shape)\n",
    "print('train_labels',y_train_a.shape)\n",
    "print('test_labels',y_test_a.shape)"
   ]
  },
  {
   "cell_type": "markdown",
   "metadata": {},
   "source": [
    "# DECISION TREE from dataset that has not been treated with outliers"
   ]
  },
  {
   "cell_type": "code",
   "execution_count": 40,
   "metadata": {},
   "outputs": [],
   "source": [
    "dt_model = DecisionTreeClassifier(criterion = 'gini' )"
   ]
  },
  {
   "cell_type": "code",
   "execution_count": 41,
   "metadata": {},
   "outputs": [
    {
     "data": {
      "text/plain": [
       "DecisionTreeClassifier()"
      ]
     },
     "execution_count": 41,
     "metadata": {},
     "output_type": "execute_result"
    }
   ],
   "source": [
    "dt_model.fit(X_train, y_train)"
   ]
  },
  {
   "cell_type": "code",
   "execution_count": 42,
   "metadata": {},
   "outputs": [],
   "source": [
    "from sklearn import tree\n",
    "\n",
    "train_char_label = ['No', 'Yes']\n",
    "Insurance_Tree_File = open('Insurance_Tree_File.dot','w')\n",
    "dot_data = tree.export_graphviz(dt_model, \n",
    "                                out_file=Insurance_Tree_File, \n",
    "                                feature_names = list(X_train), \n",
    "                                class_names = list(train_char_label))\n",
    "\n",
    "Insurance_Tree_File.close()\n"
   ]
  },
  {
   "cell_type": "code",
   "execution_count": 43,
   "metadata": {},
   "outputs": [
    {
     "name": "stdout",
     "output_type": "stream",
     "text": [
      "                   Imp\n",
      "Duration      0.263906\n",
      "Sales         0.231339\n",
      "Age           0.207457\n",
      "Agency_Code   0.169498\n",
      "Commision     0.059577\n",
      "Product_Name  0.033301\n",
      "Destination   0.031015\n",
      "Channel       0.003908\n",
      "Type          0.000000\n"
     ]
    }
   ],
   "source": [
    "#variable importance before pruning the model\n",
    "print (pd.DataFrame(dt_model.feature_importances_, columns = [\"Imp\"], index = X_train.columns).sort_values('Imp',ascending=False))"
   ]
  },
  {
   "cell_type": "code",
   "execution_count": 44,
   "metadata": {},
   "outputs": [],
   "source": [
    "#predicting\n",
    "y_predict = dt_model.predict(X_test)"
   ]
  },
  {
   "cell_type": "code",
   "execution_count": 45,
   "metadata": {},
   "outputs": [
    {
     "data": {
      "text/plain": [
       "array([1, 0, 1, 0, 0, 0, 0, 1, 0, 1, 1, 1, 0, 1, 0, 0, 1, 0, 0, 0, 0, 0,\n",
       "       0, 0, 0, 1, 0, 0, 0, 0, 0, 0, 1, 0, 0, 1, 0, 1, 0, 0, 0, 0, 0, 0,\n",
       "       0, 0, 0, 0, 1, 0, 0, 0, 0, 1, 0, 1, 0, 0, 1, 0, 1, 1, 0, 0, 0, 0,\n",
       "       0, 1, 0, 0, 1, 0, 0, 1, 0, 1, 0, 0, 0, 0, 0, 0, 0, 0, 0, 0, 0, 1,\n",
       "       1, 0, 0, 0, 1, 1, 0, 0, 0, 0, 0, 0, 1, 0, 0, 0, 1, 0, 0, 1, 0, 0,\n",
       "       0, 0, 1, 0, 0, 1, 0, 1, 0, 0, 1, 1, 0, 0, 0, 0, 0, 0, 0, 1, 1, 1,\n",
       "       0, 0, 1, 0, 0, 1, 1, 1, 0, 0, 0, 0, 1, 1, 0, 1, 0, 0, 1, 1, 0, 1,\n",
       "       0, 1, 1, 1, 0, 1, 0, 1, 0, 1, 0, 0, 0, 1, 0, 0, 1, 0, 0, 1, 1, 1,\n",
       "       1, 0, 1, 1, 0, 0, 0, 1, 1, 1, 1, 0, 0, 0, 0, 1, 1, 0, 0, 0, 1, 0,\n",
       "       0, 0, 0, 0, 1, 1, 0, 0, 0, 0, 1, 0, 1, 0, 0, 0, 0, 0, 0, 0, 0, 0,\n",
       "       0, 0, 1, 0, 1, 1, 0, 0, 0, 0, 0, 1, 0, 1, 1, 0, 0, 1, 1, 1, 0, 0,\n",
       "       0, 0, 0, 1, 0, 1, 0, 0, 0, 1, 0, 0, 0, 0, 1, 0, 0, 0, 0, 0, 0, 0,\n",
       "       0, 0, 0, 0, 0, 1, 1, 0, 0, 0, 1, 1, 1, 1, 0, 0, 0, 0, 0, 1, 0, 0,\n",
       "       0, 0, 1, 0, 0, 0, 0, 1, 1, 1, 1, 0, 0, 0, 1, 1, 1, 0, 0, 1, 0, 0,\n",
       "       1, 1, 0, 0, 1, 1, 1, 0, 1, 0, 0, 0, 1, 0, 0, 0, 0, 0, 0, 0, 0, 0,\n",
       "       0, 0, 1, 0, 0, 0, 0, 1, 0, 0, 0, 0, 0, 0, 0, 0, 1, 1, 1, 1, 0, 1,\n",
       "       0, 0, 0, 0, 0, 0, 0, 1, 0, 0, 0, 1, 0, 1, 1, 0, 0, 0, 0, 1, 0, 1,\n",
       "       1, 0, 0, 0, 0, 1, 0, 0, 0, 0, 0, 0, 1, 0, 0, 0, 0, 0, 1, 0, 1, 0,\n",
       "       0, 0, 0, 0, 0, 1, 0, 1, 1, 1, 1, 0, 0, 1, 1, 0, 0, 1, 1, 0, 1, 0,\n",
       "       1, 0, 0, 0, 0, 0, 0, 1, 0, 1, 1, 0, 0, 0, 0, 0, 0, 0, 0, 0, 0, 1,\n",
       "       0, 1, 0, 1, 1, 0, 1, 0, 1, 0, 1, 0, 1, 0, 0, 1, 0, 0, 0, 0, 1, 0,\n",
       "       1, 1, 0, 0, 0, 1, 1, 0, 1, 0, 0, 0, 0, 1, 0, 0, 0, 0, 1, 0, 0, 1,\n",
       "       0, 0, 0, 0, 0, 0, 0, 1, 0, 0, 0, 1, 1, 1, 1, 0, 1, 0, 0, 0, 0, 1,\n",
       "       0, 1, 1, 0, 0, 1, 0, 0, 1, 0, 0, 0, 0, 1, 0, 0, 1, 0, 0, 0, 0, 1,\n",
       "       1, 0, 1, 0, 0, 0, 0, 1, 1, 0, 1, 0, 1, 1, 0, 0, 0, 0, 0, 0, 0, 0,\n",
       "       0, 0, 0, 1, 0, 0, 0, 0, 1, 1, 0, 1, 1, 0, 0, 0, 0, 0, 0, 1, 1, 0,\n",
       "       0, 0, 0, 0, 0, 0, 0, 1, 1, 0, 0, 0, 1, 0, 1, 1, 1, 0, 0, 0, 1, 0,\n",
       "       0, 0, 1, 0, 1, 1, 1, 0, 1, 1, 0, 1, 1, 0, 0, 0, 1, 0, 0, 1, 1, 1,\n",
       "       0, 0, 1, 0, 1, 0, 0, 0, 1, 0, 1, 0, 0, 0, 1, 0, 0, 0, 1, 0, 0, 1,\n",
       "       1, 0, 0, 0, 0, 1, 0, 0, 0, 0, 0, 0, 0, 0, 0, 1, 1, 1, 0, 0, 0, 0,\n",
       "       0, 1, 1, 0, 1, 0, 1, 1, 1, 1, 0, 0, 0, 0, 0, 0, 0, 0, 1, 0, 0, 0,\n",
       "       0, 0, 0, 1, 0, 1, 0, 0, 0, 0, 0, 0, 1, 0, 0, 1, 0, 0, 0, 1, 0, 1,\n",
       "       0, 0, 1, 1, 0, 0, 0, 1, 0, 0, 0, 0, 0, 0, 1, 0, 0, 0, 0, 0, 1, 0,\n",
       "       0, 0, 1, 0, 0, 0, 0, 0, 1, 1, 0, 0, 0, 0, 0, 1, 0, 0, 1, 1, 1, 0,\n",
       "       0, 0, 0, 1, 1, 0, 0, 1, 1, 1, 0, 0, 0, 0, 0, 0, 0, 0, 1, 1, 0, 0,\n",
       "       0, 0, 1, 0, 0, 0, 0, 0, 0, 0, 0, 0, 0, 0, 0, 1, 0, 1, 0, 0, 0, 0,\n",
       "       0, 0, 1, 0, 0, 0, 1, 1, 0, 1, 1, 0, 0, 0, 1, 0, 0, 1, 1, 1, 0, 0,\n",
       "       0, 0, 0, 0, 0, 1, 0, 0, 0, 0, 0, 0, 1, 0, 0, 0, 0, 0, 0, 0, 0, 0,\n",
       "       0, 1, 0, 0, 0, 0, 0, 1, 0, 1, 0, 1, 0, 1, 0, 0, 0, 0, 0, 0, 0, 0,\n",
       "       1], dtype=int8)"
      ]
     },
     "execution_count": 45,
     "metadata": {},
     "output_type": "execute_result"
    }
   ],
   "source": [
    "y_predict"
   ]
  },
  {
   "cell_type": "code",
   "execution_count": 46,
   "metadata": {},
   "outputs": [],
   "source": [
    "param_grid_1 = {\n",
    "    'max_depth': [4,5,6,7,8],\n",
    "    'min_samples_leaf': [30,35, 40,45,50],\n",
    "    'min_samples_split': [60,75, 90,100,120,150]\n",
    "}\n",
    "\n",
    "dt_model = DecisionTreeClassifier(random_state=1)\n",
    "\n",
    "grid_search_1 = GridSearchCV(estimator = dt_model, param_grid = param_grid_1, cv = 3)"
   ]
  },
  {
   "cell_type": "code",
   "execution_count": 47,
   "metadata": {},
   "outputs": [],
   "source": [
    "grid_search_1.fit(X_train, y_train)"
   ]
  },
  {
   "cell_type": "code",
   "execution_count": 48,
   "metadata": {},
   "outputs": [],
   "source": [
    "grid_search_1.best_params_"
   ]
  },
  {
   "cell_type": "code",
   "execution_count": 49,
   "metadata": {},
   "outputs": [
    {
     "data": {
      "text/plain": [
       "DecisionTreeClassifier(max_depth=4, min_samples_leaf=30, min_samples_split=120,\n",
       "                       random_state=1)"
      ]
     },
     "execution_count": 49,
     "metadata": {},
     "output_type": "execute_result"
    }
   ],
   "source": [
    "reg_dt_model = DecisionTreeClassifier(criterion = 'gini', max_depth = 4, min_samples_leaf=30, min_samples_split=120, random_state=1)\n",
    "reg_dt_model.fit(X_train, y_train)\n"
   ]
  },
  {
   "cell_type": "code",
   "execution_count": 51,
   "metadata": {},
   "outputs": [
    {
     "name": "stdout",
     "output_type": "stream",
     "text": [
      "                   Imp\n",
      "Agency_Code   0.579301\n",
      "Sales         0.294225\n",
      "Product_Name  0.045689\n",
      "Commision     0.043732\n",
      "Destination   0.020055\n",
      "Duration      0.016999\n",
      "Age           0.000000\n",
      "Type          0.000000\n",
      "Channel       0.000000\n"
     ]
    }
   ],
   "source": [
    "#variable importance after pruning the model\n",
    "print (pd.DataFrame(reg_dt_model.feature_importances_, columns = [\"Imp\"], index = X_train.columns).sort_values('Imp',ascending=False))\n"
   ]
  },
  {
   "cell_type": "code",
   "execution_count": 52,
   "metadata": {},
   "outputs": [],
   "source": [
    "y_train_predict_dt = reg_dt_model.predict(X_train)\n",
    "y_test_predict_dt = reg_dt_model.predict(X_test)"
   ]
  },
  {
   "cell_type": "code",
   "execution_count": 53,
   "metadata": {},
   "outputs": [],
   "source": [
    "y_train_predict_dt_a = reg_dt_model.predict_proba(X_train)\n",
    "y_test_predict_dt_a = reg_dt_model.predict_proba(X_test)\n"
   ]
  },
  {
   "cell_type": "code",
   "execution_count": 54,
   "metadata": {},
   "outputs": [
    {
     "data": {
      "text/html": [
       "<div>\n",
       "<style scoped>\n",
       "    .dataframe tbody tr th:only-of-type {\n",
       "        vertical-align: middle;\n",
       "    }\n",
       "\n",
       "    .dataframe tbody tr th {\n",
       "        vertical-align: top;\n",
       "    }\n",
       "\n",
       "    .dataframe thead th {\n",
       "        text-align: right;\n",
       "    }\n",
       "</style>\n",
       "<table border=\"1\" class=\"dataframe\">\n",
       "  <thead>\n",
       "    <tr style=\"text-align: right;\">\n",
       "      <th></th>\n",
       "      <th>0</th>\n",
       "      <th>1</th>\n",
       "    </tr>\n",
       "  </thead>\n",
       "  <tbody>\n",
       "    <tr>\n",
       "      <th>0</th>\n",
       "      <td>0.352941</td>\n",
       "      <td>0.647059</td>\n",
       "    </tr>\n",
       "    <tr>\n",
       "      <th>1</th>\n",
       "      <td>0.932673</td>\n",
       "      <td>0.067327</td>\n",
       "    </tr>\n",
       "    <tr>\n",
       "      <th>2</th>\n",
       "      <td>0.274112</td>\n",
       "      <td>0.725888</td>\n",
       "    </tr>\n",
       "    <tr>\n",
       "      <th>3</th>\n",
       "      <td>0.714744</td>\n",
       "      <td>0.285256</td>\n",
       "    </tr>\n",
       "    <tr>\n",
       "      <th>4</th>\n",
       "      <td>0.714744</td>\n",
       "      <td>0.285256</td>\n",
       "    </tr>\n",
       "    <tr>\n",
       "      <th>...</th>\n",
       "      <td>...</td>\n",
       "      <td>...</td>\n",
       "    </tr>\n",
       "    <tr>\n",
       "      <th>854</th>\n",
       "      <td>0.837134</td>\n",
       "      <td>0.162866</td>\n",
       "    </tr>\n",
       "    <tr>\n",
       "      <th>855</th>\n",
       "      <td>0.837134</td>\n",
       "      <td>0.162866</td>\n",
       "    </tr>\n",
       "    <tr>\n",
       "      <th>856</th>\n",
       "      <td>0.424603</td>\n",
       "      <td>0.575397</td>\n",
       "    </tr>\n",
       "    <tr>\n",
       "      <th>857</th>\n",
       "      <td>0.837134</td>\n",
       "      <td>0.162866</td>\n",
       "    </tr>\n",
       "    <tr>\n",
       "      <th>858</th>\n",
       "      <td>0.837134</td>\n",
       "      <td>0.162866</td>\n",
       "    </tr>\n",
       "  </tbody>\n",
       "</table>\n",
       "<p>859 rows × 2 columns</p>\n",
       "</div>"
      ],
      "text/plain": [
       "            0         1\n",
       "0    0.352941  0.647059\n",
       "1    0.932673  0.067327\n",
       "2    0.274112  0.725888\n",
       "3    0.714744  0.285256\n",
       "4    0.714744  0.285256\n",
       "..        ...       ...\n",
       "854  0.837134  0.162866\n",
       "855  0.837134  0.162866\n",
       "856  0.424603  0.575397\n",
       "857  0.837134  0.162866\n",
       "858  0.837134  0.162866\n",
       "\n",
       "[859 rows x 2 columns]"
      ]
     },
     "execution_count": 54,
     "metadata": {},
     "output_type": "execute_result"
    }
   ],
   "source": [
    "pd.DataFrame(y_test_predict_dt_a)"
   ]
  },
  {
   "cell_type": "code",
   "execution_count": 55,
   "metadata": {},
   "outputs": [
    {
     "data": {
      "text/plain": [
       "0.7772227772227772"
      ]
     },
     "execution_count": 55,
     "metadata": {},
     "output_type": "execute_result"
    }
   ],
   "source": [
    "#training accuracy\n",
    "reg_dt_model.score(X_train,y_train)"
   ]
  },
  {
   "cell_type": "code",
   "execution_count": 56,
   "metadata": {},
   "outputs": [
    {
     "data": {
      "text/plain": [
       "0.7788125727590222"
      ]
     },
     "execution_count": 56,
     "metadata": {},
     "output_type": "execute_result"
    }
   ],
   "source": [
    "#testing accuracy\n",
    "reg_dt_model.score(X_test,y_test)"
   ]
  },
  {
   "cell_type": "markdown",
   "metadata": {},
   "source": [
    "# Decision tree from Dataset that has been treated with outliers"
   ]
  },
  {
   "cell_type": "code",
   "execution_count": 57,
   "metadata": {},
   "outputs": [],
   "source": [
    "dt_model_wo = DecisionTreeClassifier(criterion = 'gini' )"
   ]
  },
  {
   "cell_type": "code",
   "execution_count": 58,
   "metadata": {},
   "outputs": [
    {
     "data": {
      "text/plain": [
       "DecisionTreeClassifier()"
      ]
     },
     "execution_count": 58,
     "metadata": {},
     "output_type": "execute_result"
    }
   ],
   "source": [
    "dt_model_wo.fit(X_train_a, y_train_a)"
   ]
  },
  {
   "cell_type": "code",
   "execution_count": 59,
   "metadata": {},
   "outputs": [],
   "source": [
    "from sklearn import tree\n",
    "\n",
    "train_char_label = ['No', 'Yes']\n",
    "Insurance_Tree_File_best_wo = open('Insurance_Tree_File_best_wo.dot','w')\n",
    "dot_data = tree.export_graphviz(reg_dt_model_wo, \n",
    "                                out_file=Insurance_Tree_File_best_wo, \n",
    "                                feature_names = list(X_train_a), \n",
    "                                class_names = list(train_char_label))\n",
    "\n",
    "Insurance_Tree_File_best_wo.close()\n"
   ]
  },
  {
   "cell_type": "code",
   "execution_count": 60,
   "metadata": {},
   "outputs": [
    {
     "name": "stdout",
     "output_type": "stream",
     "text": [
      "                   Imp\n",
      "Duration      0.252951\n",
      "Sales         0.224872\n",
      "Age           0.199604\n",
      "Agency_Code   0.176076\n",
      "Commision     0.063049\n",
      "Product_Name  0.043267\n",
      "Destination   0.033023\n",
      "Channel       0.005303\n",
      "Type          0.001857\n"
     ]
    }
   ],
   "source": [
    "print (pd.DataFrame(dt_model_wo.feature_importances_, columns = [\"Imp\"], index = X_train_a.columns).sort_values('Imp',ascending=False))"
   ]
  },
  {
   "cell_type": "code",
   "execution_count": 61,
   "metadata": {},
   "outputs": [],
   "source": [
    "param_grid_1 = {\n",
    "    'max_depth': [4,5,6,7,8],\n",
    "    'min_samples_leaf': [30,35, 40,45,50],\n",
    "    'min_samples_split': [60,75, 90,100,120,150]\n",
    "}\n",
    "\n",
    "dt_model_wo = DecisionTreeClassifier(random_state=1)\n",
    "\n",
    "grid_search_1 = GridSearchCV(estimator = dt_model_wo, param_grid = param_grid_1, cv = 3)"
   ]
  },
  {
   "cell_type": "code",
   "execution_count": 62,
   "metadata": {},
   "outputs": [],
   "source": [
    "grid_search_1.fit(X_train_a, y_train_a)"
   ]
  },
  {
   "cell_type": "code",
   "execution_count": 63,
   "metadata": {},
   "outputs": [],
   "source": [
    "grid_search_1.best_params_"
   ]
  },
  {
   "cell_type": "code",
   "execution_count": 64,
   "metadata": {},
   "outputs": [
    {
     "data": {
      "text/plain": [
       "DecisionTreeClassifier(max_depth=4, min_samples_leaf=30, min_samples_split=120,\n",
       "                       random_state=1)"
      ]
     },
     "execution_count": 64,
     "metadata": {},
     "output_type": "execute_result"
    }
   ],
   "source": [
    "reg_dt_model_wo = DecisionTreeClassifier(criterion = 'gini', max_depth = 4, min_samples_leaf=30, min_samples_split=120, random_state=1)\n",
    "reg_dt_model_wo.fit(X_train, y_train)"
   ]
  },
  {
   "cell_type": "code",
   "execution_count": 66,
   "metadata": {},
   "outputs": [
    {
     "name": "stdout",
     "output_type": "stream",
     "text": [
      "                   Imp\n",
      "Agency_Code   0.579301\n",
      "Sales         0.294225\n",
      "Product_Name  0.045689\n",
      "Commision     0.043732\n",
      "Destination   0.020055\n",
      "Duration      0.016999\n",
      "Age           0.000000\n",
      "Type          0.000000\n",
      "Channel       0.000000\n"
     ]
    }
   ],
   "source": [
    "print (pd.DataFrame(reg_dt_model_wo.feature_importances_, columns = [\"Imp\"], index = X_train_a.columns).sort_values('Imp',ascending=False))\n"
   ]
  },
  {
   "cell_type": "code",
   "execution_count": 67,
   "metadata": {},
   "outputs": [],
   "source": [
    "y_train_predict_dt_wo = reg_dt_model_wo.predict(X_train_a)\n",
    "y_test_predict_dt_wo = reg_dt_model_wo.predict(X_test_a)"
   ]
  },
  {
   "cell_type": "code",
   "execution_count": 68,
   "metadata": {},
   "outputs": [],
   "source": [
    "y_train_predict_dt_a_wo = reg_dt_model_wo.predict_proba(X_train_a)\n",
    "y_test_predict_dt_a_wo = reg_dt_model_wo.predict_proba(X_test_a)"
   ]
  },
  {
   "cell_type": "code",
   "execution_count": 69,
   "metadata": {},
   "outputs": [
    {
     "data": {
      "text/html": [
       "<div>\n",
       "<style scoped>\n",
       "    .dataframe tbody tr th:only-of-type {\n",
       "        vertical-align: middle;\n",
       "    }\n",
       "\n",
       "    .dataframe tbody tr th {\n",
       "        vertical-align: top;\n",
       "    }\n",
       "\n",
       "    .dataframe thead th {\n",
       "        text-align: right;\n",
       "    }\n",
       "</style>\n",
       "<table border=\"1\" class=\"dataframe\">\n",
       "  <thead>\n",
       "    <tr style=\"text-align: right;\">\n",
       "      <th></th>\n",
       "      <th>0</th>\n",
       "      <th>1</th>\n",
       "    </tr>\n",
       "  </thead>\n",
       "  <tbody>\n",
       "    <tr>\n",
       "      <th>0</th>\n",
       "      <td>0.352941</td>\n",
       "      <td>0.647059</td>\n",
       "    </tr>\n",
       "    <tr>\n",
       "      <th>1</th>\n",
       "      <td>0.932673</td>\n",
       "      <td>0.067327</td>\n",
       "    </tr>\n",
       "    <tr>\n",
       "      <th>2</th>\n",
       "      <td>0.274112</td>\n",
       "      <td>0.725888</td>\n",
       "    </tr>\n",
       "    <tr>\n",
       "      <th>3</th>\n",
       "      <td>0.714744</td>\n",
       "      <td>0.285256</td>\n",
       "    </tr>\n",
       "    <tr>\n",
       "      <th>4</th>\n",
       "      <td>0.714744</td>\n",
       "      <td>0.285256</td>\n",
       "    </tr>\n",
       "    <tr>\n",
       "      <th>...</th>\n",
       "      <td>...</td>\n",
       "      <td>...</td>\n",
       "    </tr>\n",
       "    <tr>\n",
       "      <th>854</th>\n",
       "      <td>0.837134</td>\n",
       "      <td>0.162866</td>\n",
       "    </tr>\n",
       "    <tr>\n",
       "      <th>855</th>\n",
       "      <td>0.837134</td>\n",
       "      <td>0.162866</td>\n",
       "    </tr>\n",
       "    <tr>\n",
       "      <th>856</th>\n",
       "      <td>0.424603</td>\n",
       "      <td>0.575397</td>\n",
       "    </tr>\n",
       "    <tr>\n",
       "      <th>857</th>\n",
       "      <td>0.837134</td>\n",
       "      <td>0.162866</td>\n",
       "    </tr>\n",
       "    <tr>\n",
       "      <th>858</th>\n",
       "      <td>0.837134</td>\n",
       "      <td>0.162866</td>\n",
       "    </tr>\n",
       "  </tbody>\n",
       "</table>\n",
       "<p>859 rows × 2 columns</p>\n",
       "</div>"
      ],
      "text/plain": [
       "            0         1\n",
       "0    0.352941  0.647059\n",
       "1    0.932673  0.067327\n",
       "2    0.274112  0.725888\n",
       "3    0.714744  0.285256\n",
       "4    0.714744  0.285256\n",
       "..        ...       ...\n",
       "854  0.837134  0.162866\n",
       "855  0.837134  0.162866\n",
       "856  0.424603  0.575397\n",
       "857  0.837134  0.162866\n",
       "858  0.837134  0.162866\n",
       "\n",
       "[859 rows x 2 columns]"
      ]
     },
     "execution_count": 69,
     "metadata": {},
     "output_type": "execute_result"
    }
   ],
   "source": [
    "pd.DataFrame(y_test_predict_dt_a_wo)"
   ]
  },
  {
   "cell_type": "code",
   "execution_count": 70,
   "metadata": {},
   "outputs": [
    {
     "data": {
      "text/plain": [
       "0.7772227772227772"
      ]
     },
     "execution_count": 70,
     "metadata": {},
     "output_type": "execute_result"
    }
   ],
   "source": [
    "reg_dt_model_wo.score(X_train_a,y_train_a)"
   ]
  },
  {
   "cell_type": "code",
   "execution_count": 71,
   "metadata": {},
   "outputs": [
    {
     "data": {
      "text/plain": [
       "0.7788125727590222"
      ]
     },
     "execution_count": 71,
     "metadata": {},
     "output_type": "execute_result"
    }
   ],
   "source": [
    "reg_dt_model_wo.score(X_test_a,y_test_a)"
   ]
  },
  {
   "cell_type": "markdown",
   "metadata": {},
   "source": []
  },
  {
   "cell_type": "markdown",
   "metadata": {},
   "source": [
    "# RANDOM FOREST CLASSIFIER without treating outliers"
   ]
  },
  {
   "cell_type": "code",
   "execution_count": 72,
   "metadata": {},
   "outputs": [
    {
     "name": "stdout",
     "output_type": "stream",
     "text": [
      "The random state score of 1 is: 0.7402597402597403\n",
      "The random state score of 23 is: 0.7292707292707292\n",
      "The random state score of 42 is: 0.7272727272727273\n",
      "The random state score of 50 is: 0.7232767232767233\n",
      "The random state score of 100 is: 0.7247752247752248\n",
      "The random state score of 0 is: 0.7247752247752248\n"
     ]
    }
   ],
   "source": [
    "random_state=[1,23,42,50,100,0]\n",
    "for i in random_state:\n",
    "    rf=RandomForestClassifier(random_state=i,oob_score=True)\n",
    "    rf.fit(X_train,y_train)\n",
    "    print(\"The random state score of \" +str(i)+ \" is:\",rf.oob_score_)"
   ]
  },
  {
   "cell_type": "code",
   "execution_count": 73,
   "metadata": {},
   "outputs": [],
   "source": [
    "param_grid_2 = {\n",
    "    'max_depth': [5,6,7],\n",
    "    'max_features': [7,8,9],\n",
    "    'min_samples_leaf': [20, 25,30, 50],\n",
    "    'min_samples_split': [45, 60,75,80],\n",
    "    'n_estimators': [101,201,301]\n",
    "}\n",
    "\n",
    "rfcl = RandomForestClassifier(random_state = 1)\n",
    "rfcl.fit(X_train, y_train)\n",
    "\n",
    "grid_search_2 = GridSearchCV(estimator = rfcl, param_grid = param_grid_2, cv = 3)"
   ]
  },
  {
   "cell_type": "code",
   "execution_count": 74,
   "metadata": {},
   "outputs": [],
   "source": [
    "grid_search_2.fit(X_train, y_train)"
   ]
  },
  {
   "cell_type": "code",
   "execution_count": 75,
   "metadata": {},
   "outputs": [],
   "source": [
    "grid_search_2.best_params_"
   ]
  },
  {
   "cell_type": "code",
   "execution_count": 76,
   "metadata": {},
   "outputs": [],
   "source": [
    "best_grid_2 = grid_search_2.best_estimator_\n",
    "best_grid_2"
   ]
  },
  {
   "cell_type": "code",
   "execution_count": 77,
   "metadata": {},
   "outputs": [
    {
     "data": {
      "text/plain": [
       "RandomForestClassifier(max_depth=7, max_features=7, min_samples_leaf=20,\n",
       "                       min_samples_split=45, n_estimators=201, oob_score=True,\n",
       "                       random_state=1)"
      ]
     },
     "execution_count": 77,
     "metadata": {},
     "output_type": "execute_result"
    }
   ],
   "source": [
    "reg_rf_model = RandomForestClassifier(n_estimators = 201, oob_score = True, max_depth = 7,min_samples_leaf = 20 , min_samples_split = 45 ,max_features = 7,random_state = 1)\n",
    "reg_rf_model.fit(X_train, y_train)"
   ]
  },
  {
   "cell_type": "code",
   "execution_count": 78,
   "metadata": {},
   "outputs": [],
   "source": [
    "y_train_predict_rf = reg_rf_model.predict(X_train)\n",
    "y_test_predict_rf = reg_rf_model.predict(X_test)"
   ]
  },
  {
   "cell_type": "code",
   "execution_count": 79,
   "metadata": {},
   "outputs": [],
   "source": [
    "y_train_predict_rf_a = reg_rf_model.predict_proba(X_train)\n",
    "y_test_predict_rf_a = reg_rf_model.predict_proba(X_test)"
   ]
  },
  {
   "cell_type": "code",
   "execution_count": 80,
   "metadata": {},
   "outputs": [
    {
     "name": "stdout",
     "output_type": "stream",
     "text": [
      "                   Imp\n",
      "Agency_Code   0.388446\n",
      "Sales         0.224273\n",
      "Product_Name  0.159992\n",
      "Duration      0.085072\n",
      "Commision     0.073139\n",
      "Age           0.054333\n",
      "Destination   0.008838\n",
      "Type          0.005907\n",
      "Channel       0.000000\n"
     ]
    }
   ],
   "source": [
    "print (pd.DataFrame(reg_rf_model.feature_importances_, columns = [\"Imp\"], index = X_train.columns).sort_values('Imp',ascending=False))"
   ]
  },
  {
   "cell_type": "code",
   "execution_count": 81,
   "metadata": {},
   "outputs": [
    {
     "data": {
      "text/html": [
       "<div>\n",
       "<style scoped>\n",
       "    .dataframe tbody tr th:only-of-type {\n",
       "        vertical-align: middle;\n",
       "    }\n",
       "\n",
       "    .dataframe tbody tr th {\n",
       "        vertical-align: top;\n",
       "    }\n",
       "\n",
       "    .dataframe thead th {\n",
       "        text-align: right;\n",
       "    }\n",
       "</style>\n",
       "<table border=\"1\" class=\"dataframe\">\n",
       "  <thead>\n",
       "    <tr style=\"text-align: right;\">\n",
       "      <th></th>\n",
       "      <th>0</th>\n",
       "      <th>1</th>\n",
       "    </tr>\n",
       "  </thead>\n",
       "  <tbody>\n",
       "    <tr>\n",
       "      <th>0</th>\n",
       "      <td>0.506865</td>\n",
       "      <td>0.493135</td>\n",
       "    </tr>\n",
       "    <tr>\n",
       "      <th>1</th>\n",
       "      <td>0.927821</td>\n",
       "      <td>0.072179</td>\n",
       "    </tr>\n",
       "    <tr>\n",
       "      <th>2</th>\n",
       "      <td>0.317556</td>\n",
       "      <td>0.682444</td>\n",
       "    </tr>\n",
       "    <tr>\n",
       "      <th>3</th>\n",
       "      <td>0.805882</td>\n",
       "      <td>0.194118</td>\n",
       "    </tr>\n",
       "    <tr>\n",
       "      <th>4</th>\n",
       "      <td>0.743905</td>\n",
       "      <td>0.256095</td>\n",
       "    </tr>\n",
       "    <tr>\n",
       "      <th>...</th>\n",
       "      <td>...</td>\n",
       "      <td>...</td>\n",
       "    </tr>\n",
       "    <tr>\n",
       "      <th>854</th>\n",
       "      <td>0.719971</td>\n",
       "      <td>0.280029</td>\n",
       "    </tr>\n",
       "    <tr>\n",
       "      <th>855</th>\n",
       "      <td>0.887161</td>\n",
       "      <td>0.112839</td>\n",
       "    </tr>\n",
       "    <tr>\n",
       "      <th>856</th>\n",
       "      <td>0.560233</td>\n",
       "      <td>0.439767</td>\n",
       "    </tr>\n",
       "    <tr>\n",
       "      <th>857</th>\n",
       "      <td>0.925126</td>\n",
       "      <td>0.074874</td>\n",
       "    </tr>\n",
       "    <tr>\n",
       "      <th>858</th>\n",
       "      <td>0.747149</td>\n",
       "      <td>0.252851</td>\n",
       "    </tr>\n",
       "  </tbody>\n",
       "</table>\n",
       "<p>859 rows × 2 columns</p>\n",
       "</div>"
      ],
      "text/plain": [
       "            0         1\n",
       "0    0.506865  0.493135\n",
       "1    0.927821  0.072179\n",
       "2    0.317556  0.682444\n",
       "3    0.805882  0.194118\n",
       "4    0.743905  0.256095\n",
       "..        ...       ...\n",
       "854  0.719971  0.280029\n",
       "855  0.887161  0.112839\n",
       "856  0.560233  0.439767\n",
       "857  0.925126  0.074874\n",
       "858  0.747149  0.252851\n",
       "\n",
       "[859 rows x 2 columns]"
      ]
     },
     "execution_count": 81,
     "metadata": {},
     "output_type": "execute_result"
    }
   ],
   "source": [
    "pd.DataFrame(y_test_predict_rf_a)"
   ]
  },
  {
   "cell_type": "code",
   "execution_count": 82,
   "metadata": {},
   "outputs": [
    {
     "data": {
      "text/plain": [
       "0.7927072927072927"
      ]
     },
     "execution_count": 82,
     "metadata": {},
     "output_type": "execute_result"
    }
   ],
   "source": [
    "reg_rf_model.score(X_train,y_train)"
   ]
  },
  {
   "cell_type": "code",
   "execution_count": 83,
   "metadata": {},
   "outputs": [
    {
     "data": {
      "text/plain": [
       "0.7677322677322678"
      ]
     },
     "execution_count": 83,
     "metadata": {},
     "output_type": "execute_result"
    }
   ],
   "source": [
    "reg_rf_model.oob_score_"
   ]
  },
  {
   "cell_type": "code",
   "execution_count": 84,
   "metadata": {},
   "outputs": [
    {
     "data": {
      "text/plain": [
       "0.7823050058207218"
      ]
     },
     "execution_count": 84,
     "metadata": {},
     "output_type": "execute_result"
    }
   ],
   "source": [
    "reg_rf_model.score(X_test,y_test)"
   ]
  },
  {
   "cell_type": "markdown",
   "metadata": {},
   "source": [
    "# RANDOM FOREST CLASSIFIER after treating outliers"
   ]
  },
  {
   "cell_type": "code",
   "execution_count": 85,
   "metadata": {},
   "outputs": [],
   "source": [
    "param_grid_2_wo = {\n",
    "    'max_depth': [5,6,7],\n",
    "    'max_features': [7,8,9],\n",
    "    'min_samples_leaf': [20, 25,30, 50],\n",
    "    'min_samples_split': [45, 60,75,80],\n",
    "    'n_estimators': [101,201,301]\n",
    "}\n",
    "\n",
    "rfcl = RandomForestClassifier(random_state = 1)\n",
    "rfcl.fit(X_train_a, y_train_a)\n",
    "\n",
    "grid_search_2_wo = GridSearchCV(estimator = rfcl, param_grid = param_grid_2_wo, cv = 3)"
   ]
  },
  {
   "cell_type": "code",
   "execution_count": 86,
   "metadata": {},
   "outputs": [],
   "source": [
    "grid_search_2_wo.fit(X_train_a, y_train_a)"
   ]
  },
  {
   "cell_type": "code",
   "execution_count": 87,
   "metadata": {},
   "outputs": [],
   "source": [
    "grid_search_2_wo.best_params_"
   ]
  },
  {
   "cell_type": "code",
   "execution_count": 88,
   "metadata": {},
   "outputs": [],
   "source": [
    "best_grid_2_wo = grid_search_2.best_estimator_\n",
    "best_grid_2_wo"
   ]
  },
  {
   "cell_type": "code",
   "execution_count": 89,
   "metadata": {},
   "outputs": [
    {
     "data": {
      "text/plain": [
       "RandomForestClassifier(max_depth=7, max_features=7, min_samples_leaf=20,\n",
       "                       min_samples_split=45, n_estimators=201, oob_score=True,\n",
       "                       random_state=1)"
      ]
     },
     "execution_count": 89,
     "metadata": {},
     "output_type": "execute_result"
    }
   ],
   "source": [
    "reg_rf_model_wo = RandomForestClassifier(n_estimators = 201, oob_score = True, max_depth = 7,min_samples_leaf = 20 , min_samples_split = 45 ,max_features = 7,random_state = 1)\n",
    "reg_rf_model_wo.fit(X_train_a, y_train_a)"
   ]
  },
  {
   "cell_type": "code",
   "execution_count": 90,
   "metadata": {},
   "outputs": [],
   "source": [
    "y_train_predict_rf_wo = reg_rf_model_wo.predict(X_train_a)\n",
    "y_test_predict_rf_wo = reg_rf_model_wo.predict(X_test_a)"
   ]
  },
  {
   "cell_type": "code",
   "execution_count": 91,
   "metadata": {},
   "outputs": [],
   "source": [
    "y_train_predict_rf_a_wo = reg_rf_model_wo.predict_proba(X_train_a)\n",
    "y_test_predict_rf_a_wo = reg_rf_model_wo.predict_proba(X_test_a)"
   ]
  },
  {
   "cell_type": "code",
   "execution_count": 92,
   "metadata": {},
   "outputs": [
    {
     "name": "stdout",
     "output_type": "stream",
     "text": [
      "                   Imp\n",
      "Agency_Code   0.392188\n",
      "Sales         0.220123\n",
      "Product_Name  0.164582\n",
      "Duration      0.081160\n",
      "Commision     0.065718\n",
      "Age           0.060216\n",
      "Destination   0.010052\n",
      "Type          0.005960\n",
      "Channel       0.000000\n"
     ]
    }
   ],
   "source": [
    "print (pd.DataFrame(reg_rf_model_wo.feature_importances_, columns = [\"Imp\"], index = X_train_a.columns).sort_values('Imp',ascending=False))"
   ]
  },
  {
   "cell_type": "code",
   "execution_count": 93,
   "metadata": {},
   "outputs": [
    {
     "data": {
      "text/html": [
       "<div>\n",
       "<style scoped>\n",
       "    .dataframe tbody tr th:only-of-type {\n",
       "        vertical-align: middle;\n",
       "    }\n",
       "\n",
       "    .dataframe tbody tr th {\n",
       "        vertical-align: top;\n",
       "    }\n",
       "\n",
       "    .dataframe thead th {\n",
       "        text-align: right;\n",
       "    }\n",
       "</style>\n",
       "<table border=\"1\" class=\"dataframe\">\n",
       "  <thead>\n",
       "    <tr style=\"text-align: right;\">\n",
       "      <th></th>\n",
       "      <th>0</th>\n",
       "      <th>1</th>\n",
       "    </tr>\n",
       "  </thead>\n",
       "  <tbody>\n",
       "    <tr>\n",
       "      <th>0</th>\n",
       "      <td>0.517434</td>\n",
       "      <td>0.482566</td>\n",
       "    </tr>\n",
       "    <tr>\n",
       "      <th>1</th>\n",
       "      <td>0.931667</td>\n",
       "      <td>0.068333</td>\n",
       "    </tr>\n",
       "    <tr>\n",
       "      <th>2</th>\n",
       "      <td>0.315897</td>\n",
       "      <td>0.684103</td>\n",
       "    </tr>\n",
       "    <tr>\n",
       "      <th>3</th>\n",
       "      <td>0.803175</td>\n",
       "      <td>0.196825</td>\n",
       "    </tr>\n",
       "    <tr>\n",
       "      <th>4</th>\n",
       "      <td>0.732649</td>\n",
       "      <td>0.267351</td>\n",
       "    </tr>\n",
       "    <tr>\n",
       "      <th>...</th>\n",
       "      <td>...</td>\n",
       "      <td>...</td>\n",
       "    </tr>\n",
       "    <tr>\n",
       "      <th>854</th>\n",
       "      <td>0.712417</td>\n",
       "      <td>0.287583</td>\n",
       "    </tr>\n",
       "    <tr>\n",
       "      <th>855</th>\n",
       "      <td>0.892580</td>\n",
       "      <td>0.107420</td>\n",
       "    </tr>\n",
       "    <tr>\n",
       "      <th>856</th>\n",
       "      <td>0.560748</td>\n",
       "      <td>0.439252</td>\n",
       "    </tr>\n",
       "    <tr>\n",
       "      <th>857</th>\n",
       "      <td>0.927356</td>\n",
       "      <td>0.072644</td>\n",
       "    </tr>\n",
       "    <tr>\n",
       "      <th>858</th>\n",
       "      <td>0.746421</td>\n",
       "      <td>0.253579</td>\n",
       "    </tr>\n",
       "  </tbody>\n",
       "</table>\n",
       "<p>859 rows × 2 columns</p>\n",
       "</div>"
      ],
      "text/plain": [
       "            0         1\n",
       "0    0.517434  0.482566\n",
       "1    0.931667  0.068333\n",
       "2    0.315897  0.684103\n",
       "3    0.803175  0.196825\n",
       "4    0.732649  0.267351\n",
       "..        ...       ...\n",
       "854  0.712417  0.287583\n",
       "855  0.892580  0.107420\n",
       "856  0.560748  0.439252\n",
       "857  0.927356  0.072644\n",
       "858  0.746421  0.253579\n",
       "\n",
       "[859 rows x 2 columns]"
      ]
     },
     "execution_count": 93,
     "metadata": {},
     "output_type": "execute_result"
    }
   ],
   "source": [
    "pd.DataFrame(y_test_predict_rf_a_wo)"
   ]
  },
  {
   "cell_type": "code",
   "execution_count": 94,
   "metadata": {},
   "outputs": [
    {
     "data": {
      "text/plain": [
       "0.7937062937062938"
      ]
     },
     "execution_count": 94,
     "metadata": {},
     "output_type": "execute_result"
    }
   ],
   "source": [
    "reg_rf_model_wo.score(X_train_a,y_train_a)"
   ]
  },
  {
   "cell_type": "code",
   "execution_count": 95,
   "metadata": {},
   "outputs": [
    {
     "data": {
      "text/plain": [
       "0.7667332667332667"
      ]
     },
     "execution_count": 95,
     "metadata": {},
     "output_type": "execute_result"
    }
   ],
   "source": [
    "reg_rf_model_wo.oob_score_"
   ]
  },
  {
   "cell_type": "code",
   "execution_count": 96,
   "metadata": {},
   "outputs": [
    {
     "data": {
      "text/plain": [
       "0.7846332945285215"
      ]
     },
     "execution_count": 96,
     "metadata": {},
     "output_type": "execute_result"
    }
   ],
   "source": [
    "reg_rf_model_wo.score(X_test_a,y_test_a)"
   ]
  },
  {
   "cell_type": "markdown",
   "metadata": {},
   "source": []
  },
  {
   "cell_type": "markdown",
   "metadata": {},
   "source": [
    "# MLP CLASSIFIER (ARTIFICIAL NEURAL NETWORK)"
   ]
  },
  {
   "cell_type": "code",
   "execution_count": 97,
   "metadata": {},
   "outputs": [],
   "source": [
    "from sklearn.neural_network import MLPClassifier"
   ]
  },
  {
   "cell_type": "code",
   "execution_count": 98,
   "metadata": {},
   "outputs": [],
   "source": [
    "sc = StandardScaler() \n",
    "X_train_mlp = sc.fit_transform(X_train_a) \n",
    "X_test_mlp = sc.transform (X_test_a)"
   ]
  },
  {
   "cell_type": "code",
   "execution_count": 99,
   "metadata": {},
   "outputs": [],
   "source": [
    "param_grid_3 = {\n",
    "    'hidden_layer_sizes': [(500,500,500),(200,200)],\n",
    "    'activation': ['logistic', 'relu'],\n",
    "    'solver': ['sgd', 'adam'],\n",
    "    'tol': [0.1,0.01,0.001,0.0001],\n",
    "    'max_iter' : [150, 300, 500]\n",
    "}\n",
    "\n",
    "mlp = MLPClassifier(random_state = 1)\n",
    "mlp.fit(X_test_mlp, y_test)\n",
    "\n",
    "grid_search_3 = GridSearchCV(estimator = mlp, param_grid = param_grid_3, cv = 10)"
   ]
  },
  {
   "cell_type": "code",
   "execution_count": 100,
   "metadata": {},
   "outputs": [],
   "source": [
    "grid_search_3.fit(X_train_mlp, y_train_a)"
   ]
  },
  {
   "cell_type": "code",
   "execution_count": 101,
   "metadata": {},
   "outputs": [],
   "source": [
    "grid_search_3.best_params_"
   ]
  },
  {
   "cell_type": "code",
   "execution_count": 102,
   "metadata": {},
   "outputs": [],
   "source": [
    "best_grid_3 = grid_search_3.best_estimator_"
   ]
  },
  {
   "cell_type": "code",
   "execution_count": 103,
   "metadata": {},
   "outputs": [],
   "source": [
    "best_grid_3"
   ]
  },
  {
   "cell_type": "code",
   "execution_count": 104,
   "metadata": {},
   "outputs": [],
   "source": [
    "clf = MLPClassifier(hidden_layer_sizes=(500,500,500), activation ='relu',max_iter = 150,solver = 'adam',verbose = True,random_state = 1, tol = 0.0001 )"
   ]
  },
  {
   "cell_type": "code",
   "execution_count": 105,
   "metadata": {},
   "outputs": [
    {
     "name": "stdout",
     "output_type": "stream",
     "text": [
      "Iteration 1, loss = 0.56809143\n",
      "Iteration 2, loss = 0.51577142\n",
      "Iteration 3, loss = 0.50906769\n",
      "Iteration 4, loss = 0.51256193\n",
      "Iteration 5, loss = 0.52810011\n",
      "Iteration 6, loss = 0.50507050\n",
      "Iteration 7, loss = 0.52298306\n",
      "Iteration 8, loss = 0.50907322\n",
      "Iteration 9, loss = 0.49609533\n",
      "Iteration 10, loss = 0.51395561\n",
      "Iteration 11, loss = 0.50234983\n",
      "Iteration 12, loss = 0.49939470\n",
      "Iteration 13, loss = 0.50375679\n",
      "Iteration 14, loss = 0.49366804\n",
      "Iteration 15, loss = 0.48120722\n",
      "Iteration 16, loss = 0.48120922\n",
      "Iteration 17, loss = 0.47744569\n",
      "Iteration 18, loss = 0.49438574\n",
      "Iteration 19, loss = 0.48344140\n",
      "Iteration 20, loss = 0.47366120\n",
      "Iteration 21, loss = 0.47016667\n",
      "Iteration 22, loss = 0.46772697\n",
      "Iteration 23, loss = 0.47371331\n",
      "Iteration 24, loss = 0.49191970\n",
      "Iteration 25, loss = 0.47835185\n",
      "Iteration 26, loss = 0.46986002\n",
      "Iteration 27, loss = 0.46629166\n",
      "Iteration 28, loss = 0.46733437\n",
      "Iteration 29, loss = 0.46951944\n",
      "Iteration 30, loss = 0.48164386\n",
      "Iteration 31, loss = 0.47936522\n",
      "Iteration 32, loss = 0.46650903\n",
      "Iteration 33, loss = 0.46170042\n",
      "Iteration 34, loss = 0.46276649\n",
      "Iteration 35, loss = 0.45883614\n",
      "Iteration 36, loss = 0.45254606\n",
      "Iteration 37, loss = 0.45034993\n",
      "Iteration 38, loss = 0.46216845\n",
      "Iteration 39, loss = 0.45424426\n",
      "Iteration 40, loss = 0.45709573\n",
      "Iteration 41, loss = 0.45622144\n",
      "Iteration 42, loss = 0.48006016\n",
      "Iteration 43, loss = 0.48116845\n",
      "Iteration 44, loss = 0.47264694\n",
      "Iteration 45, loss = 0.45943393\n",
      "Iteration 46, loss = 0.45960548\n",
      "Iteration 47, loss = 0.45354544\n",
      "Iteration 48, loss = 0.46706584\n",
      "Training loss did not improve more than tol=0.000100 for 10 consecutive epochs. Stopping.\n"
     ]
    },
    {
     "data": {
      "text/plain": [
       "MLPClassifier(hidden_layer_sizes=(500, 500, 500), max_iter=150, random_state=1,\n",
       "              verbose=True)"
      ]
     },
     "execution_count": 105,
     "metadata": {},
     "output_type": "execute_result"
    }
   ],
   "source": [
    "clf.fit(X_train_mlp,y_train_a)"
   ]
  },
  {
   "cell_type": "code",
   "execution_count": 106,
   "metadata": {},
   "outputs": [
    {
     "data": {
      "text/plain": [
       "array([1, 0, 1, 0, 0, 0, 0, 0, 0, 0, 0, 1, 1, 0, 0, 0, 0, 0, 1, 0, 1, 1,\n",
       "       0, 0, 0, 0, 1, 0, 0, 0, 0, 0, 1, 1, 0, 0, 0, 1, 1, 0, 0, 0, 0, 0,\n",
       "       0, 0, 0, 0, 1, 0, 0, 0, 0, 0, 1, 0, 0, 0, 0, 0, 0, 1, 0, 0, 0, 0,\n",
       "       0, 1, 0, 0, 1, 0, 0, 0, 0, 0, 0, 0, 0, 0, 0, 0, 1, 0, 0, 0, 0, 1,\n",
       "       1, 1, 1, 0, 0, 1, 0, 0, 1, 0, 0, 0, 1, 0, 0, 0, 1, 0, 1, 1, 0, 0,\n",
       "       0, 1, 1, 0, 0, 0, 0, 0, 0, 0, 1, 1, 1, 0, 0, 0, 0, 0, 0, 0, 0, 0,\n",
       "       0, 0, 0, 0, 1, 0, 1, 1, 1, 0, 0, 0, 1, 0, 0, 1, 0, 0, 1, 1, 0, 0,\n",
       "       0, 1, 1, 1, 0, 1, 0, 1, 0, 0, 0, 0, 0, 0, 0, 1, 0, 0, 0, 1, 1, 1,\n",
       "       1, 0, 0, 0, 0, 0, 0, 0, 1, 0, 1, 1, 1, 0, 0, 1, 0, 1, 0, 0, 0, 0,\n",
       "       0, 0, 0, 0, 1, 1, 0, 0, 0, 0, 0, 0, 1, 0, 0, 0, 0, 0, 0, 1, 0, 0,\n",
       "       0, 0, 1, 1, 1, 0, 0, 0, 0, 0, 0, 0, 0, 1, 1, 0, 0, 1, 0, 1, 0, 0,\n",
       "       0, 0, 0, 0, 0, 0, 0, 0, 0, 1, 0, 0, 0, 1, 1, 0, 0, 1, 0, 0, 0, 1,\n",
       "       0, 0, 0, 0, 0, 1, 1, 0, 0, 0, 1, 0, 1, 0, 0, 0, 0, 0, 0, 1, 0, 0,\n",
       "       0, 0, 1, 0, 0, 1, 0, 1, 1, 0, 0, 0, 0, 0, 1, 0, 1, 0, 0, 0, 0, 0,\n",
       "       1, 1, 0, 1, 1, 0, 1, 0, 1, 0, 0, 0, 0, 0, 0, 0, 0, 0, 0, 0, 0, 0,\n",
       "       0, 1, 0, 1, 0, 0, 0, 1, 0, 0, 0, 0, 0, 0, 0, 0, 1, 1, 0, 1, 0, 1,\n",
       "       0, 1, 0, 1, 0, 1, 1, 0, 0, 1, 0, 1, 0, 0, 1, 0, 0, 0, 0, 1, 0, 1,\n",
       "       1, 0, 0, 1, 0, 1, 0, 0, 0, 0, 0, 0, 1, 0, 0, 0, 1, 0, 1, 0, 0, 1,\n",
       "       0, 0, 0, 1, 0, 1, 0, 1, 0, 1, 0, 0, 0, 1, 1, 0, 0, 1, 1, 0, 1, 0,\n",
       "       0, 0, 0, 0, 0, 0, 0, 1, 0, 0, 0, 0, 1, 0, 0, 0, 0, 0, 0, 0, 1, 1,\n",
       "       0, 0, 0, 0, 1, 0, 1, 0, 1, 0, 1, 0, 1, 1, 0, 1, 0, 0, 0, 0, 1, 0,\n",
       "       1, 1, 0, 0, 0, 1, 0, 0, 1, 0, 1, 0, 0, 1, 0, 0, 0, 1, 1, 0, 0, 0,\n",
       "       0, 0, 0, 0, 0, 0, 1, 1, 0, 0, 0, 1, 0, 0, 0, 0, 0, 0, 0, 0, 0, 1,\n",
       "       0, 1, 0, 0, 0, 1, 0, 0, 1, 0, 0, 0, 0, 0, 0, 0, 1, 0, 0, 0, 0, 1,\n",
       "       1, 1, 1, 0, 0, 1, 0, 1, 0, 1, 0, 0, 1, 0, 0, 0, 0, 1, 0, 0, 0, 0,\n",
       "       0, 0, 0, 1, 0, 1, 0, 0, 0, 1, 0, 1, 0, 0, 0, 0, 0, 0, 0, 1, 1, 0,\n",
       "       0, 0, 0, 0, 0, 0, 0, 1, 1, 0, 0, 0, 1, 0, 1, 1, 0, 0, 0, 1, 0, 0,\n",
       "       0, 0, 1, 0, 1, 0, 1, 0, 1, 0, 1, 1, 0, 0, 0, 0, 1, 0, 0, 1, 0, 0,\n",
       "       0, 0, 1, 0, 1, 0, 0, 0, 1, 1, 1, 0, 0, 0, 1, 0, 0, 0, 1, 0, 0, 1,\n",
       "       0, 0, 1, 0, 0, 1, 1, 0, 0, 1, 0, 1, 1, 0, 0, 0, 0, 1, 1, 0, 0, 0,\n",
       "       0, 1, 0, 0, 1, 0, 1, 0, 0, 1, 0, 0, 0, 0, 0, 1, 0, 0, 1, 0, 0, 0,\n",
       "       0, 0, 0, 1, 1, 1, 0, 0, 1, 1, 1, 0, 1, 0, 0, 0, 0, 0, 1, 0, 0, 1,\n",
       "       0, 0, 0, 0, 0, 0, 0, 1, 1, 0, 0, 0, 0, 0, 1, 0, 0, 0, 0, 1, 0, 1,\n",
       "       0, 0, 0, 1, 0, 0, 0, 0, 0, 0, 0, 0, 1, 1, 1, 1, 0, 0, 1, 0, 1, 0,\n",
       "       0, 1, 0, 1, 0, 0, 0, 0, 1, 1, 0, 0, 0, 0, 0, 0, 0, 0, 1, 1, 0, 0,\n",
       "       0, 0, 1, 0, 0, 0, 0, 0, 0, 0, 0, 0, 0, 0, 0, 0, 0, 0, 0, 0, 0, 1,\n",
       "       0, 1, 1, 0, 1, 0, 0, 0, 0, 1, 1, 0, 0, 0, 1, 0, 0, 1, 0, 0, 0, 1,\n",
       "       0, 0, 0, 0, 0, 0, 0, 0, 0, 0, 0, 0, 1, 1, 0, 0, 1, 0, 0, 0, 0, 0,\n",
       "       0, 0, 0, 1, 1, 0, 1, 1, 0, 0, 0, 1, 1, 1, 1, 0, 0, 0, 0, 0, 0, 0,\n",
       "       0], dtype=int8)"
      ]
     },
     "execution_count": 106,
     "metadata": {},
     "output_type": "execute_result"
    }
   ],
   "source": [
    "y_pred = clf.predict(X_test_mlp)\n",
    "y_pred"
   ]
  },
  {
   "cell_type": "code",
   "execution_count": 107,
   "metadata": {},
   "outputs": [
    {
     "data": {
      "text/plain": [
       "array([0, 0, 0, ..., 0, 0, 0], dtype=int8)"
      ]
     },
     "execution_count": 107,
     "metadata": {},
     "output_type": "execute_result"
    }
   ],
   "source": [
    "y_pred_2 = clf.predict(X_train_mlp)\n",
    "y_pred_2"
   ]
  },
  {
   "cell_type": "code",
   "execution_count": 108,
   "metadata": {},
   "outputs": [
    {
     "data": {
      "text/plain": [
       "0.7842157842157842"
      ]
     },
     "execution_count": 108,
     "metadata": {},
     "output_type": "execute_result"
    }
   ],
   "source": [
    "mlp_train_acc = clf.score(X_train_mlp,y_train_a)\n",
    "mlp_train_acc"
   ]
  },
  {
   "cell_type": "code",
   "execution_count": 109,
   "metadata": {},
   "outputs": [
    {
     "data": {
      "text/plain": [
       "0.7811408614668219"
      ]
     },
     "execution_count": 109,
     "metadata": {},
     "output_type": "execute_result"
    }
   ],
   "source": [
    "mlp_test_acc = clf.score(X_test_mlp,y_test_a)\n",
    "mlp_test_acc"
   ]
  },
  {
   "cell_type": "markdown",
   "metadata": {},
   "source": []
  },
  {
   "cell_type": "markdown",
   "metadata": {},
   "source": [
    "# 2.3  Performance Metrics: Check the performance of Predictions on Train and Test sets using Accuracy, Confusion Matrix, Plot ROC curve and get ROC_AUC score for each model"
   ]
  },
  {
   "cell_type": "markdown",
   "metadata": {},
   "source": [
    "#### DECISION TREE CLASSIFIER"
   ]
  },
  {
   "cell_type": "code",
   "execution_count": 110,
   "metadata": {},
   "outputs": [
    {
     "data": {
      "image/png": "[encoded data removed]",
      "text/plain": [
       "<Figure size 432x288 with 1 Axes>"
      ]
     },
     "metadata": {
      "needs_background": "light"
     },
     "output_type": "display_data"
    }
   ],
   "source": [
    "confusion_matrix(y_test, y_test_predict_dt)\n",
    "sns.heatmap(confusion_matrix(y_test, y_test_predict_dt),annot=True, fmt='d',cbar=False, cmap='rainbow')\n",
    "plt.xlabel('Predicted Label')\n",
    "plt.ylabel('Actual Label')\n",
    "plt.title('Confusion Matrix')\n",
    "plt.show()"
   ]
  },
  {
   "cell_type": "code",
   "execution_count": 111,
   "metadata": {},
   "outputs": [
    {
     "data": {
      "image/png": "[encoded data removed]",
      "text/plain": [
       "<Figure size 432x288 with 1 Axes>"
      ]
     },
     "metadata": {
      "needs_background": "light"
     },
     "output_type": "display_data"
    }
   ],
   "source": [
    "confusion_matrix(y_train, y_train_predict_dt)\n",
    "sns.heatmap(confusion_matrix(y_train, y_train_predict_dt),annot=True, fmt='d',cbar=False, cmap='rainbow')\n",
    "plt.xlabel('Predicted Label')\n",
    "plt.ylabel('Actual Label')\n",
    "plt.title('Confusion Matrix')\n",
    "plt.show()"
   ]
  },
  {
   "cell_type": "code",
   "execution_count": 112,
   "metadata": {},
   "outputs": [
    {
     "data": {
      "text/plain": [
       "0.7772227772227772"
      ]
     },
     "execution_count": 112,
     "metadata": {},
     "output_type": "execute_result"
    }
   ],
   "source": [
    "cart_train_acc_dt = reg_dt_model.score(X_train,y_train)\n",
    "cart_train_acc_dt"
   ]
  },
  {
   "cell_type": "code",
   "execution_count": 113,
   "metadata": {},
   "outputs": [
    {
     "data": {
      "text/plain": [
       "0.7788125727590222"
      ]
     },
     "execution_count": 113,
     "metadata": {},
     "output_type": "execute_result"
    }
   ],
   "source": [
    "cart_test_acc_dt = reg_dt_model.score(X_test,y_test)\n",
    "cart_test_acc_dt"
   ]
  },
  {
   "cell_type": "code",
   "execution_count": 114,
   "metadata": {},
   "outputs": [
    {
     "name": "stdout",
     "output_type": "stream",
     "text": [
      "              precision    recall  f1-score   support\n",
      "\n",
      "           0       0.82      0.86      0.84      1359\n",
      "           1       0.67      0.59      0.63       643\n",
      "\n",
      "    accuracy                           0.78      2002\n",
      "   macro avg       0.75      0.73      0.74      2002\n",
      "weighted avg       0.77      0.78      0.77      2002\n",
      "\n"
     ]
    }
   ],
   "source": [
    "print(classification_report(y_train,y_train_predict_dt))"
   ]
  },
  {
   "cell_type": "code",
   "execution_count": 115,
   "metadata": {
    "scrolled": false
   },
   "outputs": [
    {
     "name": "stdout",
     "output_type": "stream",
     "text": [
      "              precision    recall  f1-score   support\n",
      "\n",
      "           0       0.82      0.86      0.84       588\n",
      "           1       0.67      0.59      0.63       271\n",
      "\n",
      "    accuracy                           0.78       859\n",
      "   macro avg       0.75      0.73      0.74       859\n",
      "weighted avg       0.77      0.78      0.78       859\n",
      "\n"
     ]
    }
   ],
   "source": [
    "print(classification_report(y_test,y_test_predict_dt))"
   ]
  },
  {
   "cell_type": "code",
   "execution_count": 116,
   "metadata": {},
   "outputs": [
    {
     "name": "stdout",
     "output_type": "stream",
     "text": [
      "cart_train_precision  0.67\n",
      "cart_train_recall  0.59\n",
      "cart_train_f1  0.63\n"
     ]
    }
   ],
   "source": [
    "cart_metrics_dt=classification_report(y_train, y_train_predict_dt,output_dict=True)\n",
    "df=pd.DataFrame(cart_metrics_dt).transpose()\n",
    "cart_train_f1_dt=round(df.loc[\"1\"][2],2)\n",
    "cart_train_recall_dt=round(df.loc[\"1\"][1],2)\n",
    "cart_train_precision_dt=round(df.loc[\"1\"][0],2)\n",
    "print ('cart_train_precision ',cart_train_precision_dt)\n",
    "print ('cart_train_recall ',cart_train_recall_dt)\n",
    "print ('cart_train_f1 ',cart_train_f1_dt)"
   ]
  },
  {
   "cell_type": "code",
   "execution_count": 117,
   "metadata": {},
   "outputs": [
    {
     "name": "stdout",
     "output_type": "stream",
     "text": [
      "cart_test_precision  0.67\n",
      "cart_test_recall  0.59\n",
      "cart_test_f1  0.63\n"
     ]
    }
   ],
   "source": [
    "cart_metrics_dt=classification_report(y_test, y_test_predict_dt,output_dict=True)\n",
    "df=pd.DataFrame(cart_metrics_dt).transpose()\n",
    "cart_test_f1_dt=round(df.loc[\"1\"][2],2)\n",
    "cart_test_recall_dt=round(df.loc[\"1\"][1],2)\n",
    "cart_test_precision_dt=round(df.loc[\"1\"][0],2)\n",
    "print ('cart_test_precision ',cart_test_precision_dt)\n",
    "print ('cart_test_recall ',cart_test_recall_dt)\n",
    "print ('cart_test_f1 ',cart_test_f1_dt)"
   ]
  },
  {
   "cell_type": "code",
   "execution_count": 118,
   "metadata": {},
   "outputs": [
    {
     "name": "stdout",
     "output_type": "stream",
     "text": [
      "AUC: 0.810\n"
     ]
    },
    {
     "data": {
      "image/png": "[encoded data removed]",
      "text/plain": [
       "<Figure size 864x504 with 1 Axes>"
      ]
     },
     "metadata": {
      "needs_background": "light"
     },
     "output_type": "display_data"
    }
   ],
   "source": [
    "# predict probabilities\n",
    "probs = reg_dt_model.predict_proba(X_train)\n",
    "\n",
    "# keep probabilities for the positive outcome only\n",
    "probs = probs[:, 1]\n",
    "\n",
    "plt.figure(figsize=(12,7))\n",
    "# calculate AUC\n",
    "cart_train_auc_dt = roc_auc_score(y_train, probs)\n",
    "print('AUC: %.3f' % cart_train_auc_dt)\n",
    "\n",
    "\n",
    "# calculate roc curve\n",
    "cart_train_fpr_dt, cart_train_tpr_dt, cart_train_thresholds_dt = roc_curve(y_train, probs)\n",
    "plt.plot([0, 1], [0, 1], linestyle='--')\n",
    "\n",
    "# plot the roc curve for the model\n",
    "plt.plot(cart_train_fpr_dt, cart_train_tpr_dt, marker='x')\n",
    "\n",
    "# show the plot\n",
    "plt.show()"
   ]
  },
  {
   "cell_type": "code",
   "execution_count": 119,
   "metadata": {},
   "outputs": [
    {
     "name": "stdout",
     "output_type": "stream",
     "text": [
      "AUC: 0.803\n"
     ]
    },
    {
     "data": {
      "image/png": "[encoded data removed]",
      "text/plain": [
       "<Figure size 864x504 with 1 Axes>"
      ]
     },
     "metadata": {
      "needs_background": "light"
     },
     "output_type": "display_data"
    }
   ],
   "source": [
    "# predict probabilities\n",
    "probs = reg_dt_model.predict_proba(X_test)\n",
    "\n",
    "# keep probabilities for the positive outcome only\n",
    "probs = probs[:, 1]\n",
    "\n",
    "plt.figure(figsize=(12,7))\n",
    "# calculate AUC\n",
    "cart_test_auc_dt = roc_auc_score(y_test, probs)\n",
    "print('AUC: %.3f' % cart_test_auc_dt)\n",
    "\n",
    "# calculate roc curve\n",
    "cart_test_fpr_dt, cart_test_tpr_dt, cart_test_thresholds_dt = roc_curve(y_test, probs)\n",
    "plt.plot([0, 1], [0, 1], linestyle='--')\n",
    "\n",
    "# plot the roc curve for the model\n",
    "plt.plot(cart_test_fpr_dt, cart_test_tpr_dt, marker='x')\n",
    "\n",
    "# show the plot\n",
    "plt.show()"
   ]
  },
  {
   "cell_type": "markdown",
   "metadata": {},
   "source": [
    "### Without outliers"
   ]
  },
  {
   "cell_type": "code",
   "execution_count": 120,
   "metadata": {},
   "outputs": [
    {
     "data": {
      "image/png": "[encoded data removed]",
      "text/plain": [
       "<Figure size 432x288 with 1 Axes>"
      ]
     },
     "metadata": {
      "needs_background": "light"
     },
     "output_type": "display_data"
    }
   ],
   "source": [
    "confusion_matrix(y_test_a, y_test_predict_dt_wo)\n",
    "sns.heatmap(confusion_matrix(y_test_a, y_test_predict_dt_wo),annot=True, fmt='d',cbar=False, cmap='rainbow')\n",
    "plt.xlabel('Predicted Label')\n",
    "plt.ylabel('Actual Label')\n",
    "plt.title('Confusion Matrix')\n",
    "plt.show()"
   ]
  },
  {
   "cell_type": "code",
   "execution_count": 121,
   "metadata": {},
   "outputs": [
    {
     "data": {
      "image/png": "[encoded data removed]",
      "text/plain": [
       "<Figure size 432x288 with 1 Axes>"
      ]
     },
     "metadata": {
      "needs_background": "light"
     },
     "output_type": "display_data"
    }
   ],
   "source": [
    "confusion_matrix(y_train_a, y_train_predict_dt_wo)\n",
    "sns.heatmap(confusion_matrix(y_train_a, y_train_predict_dt_wo),annot=True, fmt='d',cbar=False, cmap='rainbow')\n",
    "plt.xlabel('Predicted Label')\n",
    "plt.ylabel('Actual Label')\n",
    "plt.title('Confusion Matrix')\n",
    "plt.show()"
   ]
  },
  {
   "cell_type": "code",
   "execution_count": 122,
   "metadata": {},
   "outputs": [
    {
     "data": {
      "text/plain": [
       "0.7772227772227772"
      ]
     },
     "execution_count": 122,
     "metadata": {},
     "output_type": "execute_result"
    }
   ],
   "source": [
    "cart_train_acc_dt_wo = reg_dt_model_wo.score(X_train_a,y_train_a)\n",
    "cart_train_acc_dt_wo"
   ]
  },
  {
   "cell_type": "code",
   "execution_count": 123,
   "metadata": {},
   "outputs": [
    {
     "data": {
      "text/plain": [
       "0.7788125727590222"
      ]
     },
     "execution_count": 123,
     "metadata": {},
     "output_type": "execute_result"
    }
   ],
   "source": [
    "cart_test_acc_dt_wo = reg_dt_model_wo.score(X_test_a,y_test_a)\n",
    "cart_test_acc_dt_wo"
   ]
  },
  {
   "cell_type": "code",
   "execution_count": 124,
   "metadata": {},
   "outputs": [
    {
     "name": "stdout",
     "output_type": "stream",
     "text": [
      "              precision    recall  f1-score   support\n",
      "\n",
      "           0       0.82      0.86      0.84      1359\n",
      "           1       0.67      0.59      0.63       643\n",
      "\n",
      "    accuracy                           0.78      2002\n",
      "   macro avg       0.75      0.73      0.74      2002\n",
      "weighted avg       0.77      0.78      0.77      2002\n",
      "\n"
     ]
    }
   ],
   "source": [
    "print(classification_report(y_train_a,y_train_predict_dt_wo))"
   ]
  },
  {
   "cell_type": "code",
   "execution_count": 125,
   "metadata": {
    "scrolled": false
   },
   "outputs": [
    {
     "name": "stdout",
     "output_type": "stream",
     "text": [
      "              precision    recall  f1-score   support\n",
      "\n",
      "           0       0.82      0.86      0.84       588\n",
      "           1       0.67      0.59      0.63       271\n",
      "\n",
      "    accuracy                           0.78       859\n",
      "   macro avg       0.75      0.73      0.74       859\n",
      "weighted avg       0.77      0.78      0.78       859\n",
      "\n"
     ]
    }
   ],
   "source": [
    "print(classification_report(y_test_a,y_test_predict_dt_wo))"
   ]
  },
  {
   "cell_type": "code",
   "execution_count": 126,
   "metadata": {},
   "outputs": [
    {
     "name": "stdout",
     "output_type": "stream",
     "text": [
      "cart_train_precision  0.67\n",
      "cart_train_recall  0.59\n",
      "cart_train_f1  0.63\n"
     ]
    }
   ],
   "source": [
    "cart_metrics_dt_wo=classification_report(y_train_a, y_train_predict_dt_wo,output_dict=True)\n",
    "df=pd.DataFrame(cart_metrics_dt_wo).transpose()\n",
    "cart_train_f1_dt_wo=round(df.loc[\"1\"][2],2)\n",
    "cart_train_recall_dt_wo=round(df.loc[\"1\"][1],2)\n",
    "cart_train_precision_dt_wo=round(df.loc[\"1\"][0],2)\n",
    "print ('cart_train_precision ',cart_train_precision_dt_wo)\n",
    "print ('cart_train_recall ',cart_train_recall_dt_wo)\n",
    "print ('cart_train_f1 ',cart_train_f1_dt_wo)"
   ]
  },
  {
   "cell_type": "code",
   "execution_count": 127,
   "metadata": {},
   "outputs": [
    {
     "name": "stdout",
     "output_type": "stream",
     "text": [
      "cart_train_precision  0.67\n",
      "cart_train_recall  0.59\n",
      "cart_train_f1  0.63\n"
     ]
    }
   ],
   "source": [
    "cart_metrics_dt_wo=classification_report(y_test_a, y_test_predict_dt_wo,output_dict=True)\n",
    "df=pd.DataFrame(cart_metrics_dt_wo).transpose()\n",
    "cart_test_f1_dt_wo=round(df.loc[\"1\"][2],2)\n",
    "cart_test_recall_dt_wo=round(df.loc[\"1\"][1],2)\n",
    "cart_test_precision_dt_wo=round(df.loc[\"1\"][0],2)\n",
    "print ('cart_train_precision ',cart_test_precision_dt_wo)\n",
    "print ('cart_train_recall ',cart_test_recall_dt_wo)\n",
    "print ('cart_train_f1 ',cart_test_f1_dt_wo)"
   ]
  },
  {
   "cell_type": "code",
   "execution_count": 128,
   "metadata": {},
   "outputs": [
    {
     "name": "stdout",
     "output_type": "stream",
     "text": [
      "AUC: 0.809\n"
     ]
    },
    {
     "data": {
      "image/png": "[encoded data removed]",
      "text/plain": [
       "<Figure size 864x504 with 1 Axes>"
      ]
     },
     "metadata": {
      "needs_background": "light"
     },
     "output_type": "display_data"
    }
   ],
   "source": [
    "# predict probabilities\n",
    "probs = reg_dt_model_wo.predict_proba(X_train_a)\n",
    "\n",
    "# keep probabilities for the positive outcome only\n",
    "probs = probs[:, 1]\n",
    "\n",
    "plt.figure(figsize=(12,7))\n",
    "# calculate AUC\n",
    "cart_train_auc_dt_wo = roc_auc_score(y_train_a, probs)\n",
    "print('AUC: %.3f' % cart_train_auc_dt_wo)\n",
    "\n",
    "\n",
    "# calculate roc curve\n",
    "cart_train_fpr_dt_wo, cart_train_tpr_dt_wo, cart_train_thresholds_dt_wo = roc_curve(y_train_a, probs)\n",
    "plt.plot([0, 1], [0, 1], linestyle='--')\n",
    "\n",
    "# plot the roc curve for the model\n",
    "plt.plot(cart_train_fpr_dt_wo, cart_train_tpr_dt_wo, marker='x')\n",
    "\n",
    "# show the plot\n",
    "plt.show()"
   ]
  },
  {
   "cell_type": "code",
   "execution_count": 129,
   "metadata": {},
   "outputs": [
    {
     "name": "stdout",
     "output_type": "stream",
     "text": [
      "AUC: 0.802\n"
     ]
    },
    {
     "data": {
      "image/png": "[encoded data removed]",
      "text/plain": [
       "<Figure size 864x504 with 1 Axes>"
      ]
     },
     "metadata": {
      "needs_background": "light"
     },
     "output_type": "display_data"
    }
   ],
   "source": [
    "# predict probabilities\n",
    "probs = reg_dt_model_wo.predict_proba(X_test_a)\n",
    "\n",
    "# keep probabilities for the positive outcome only\n",
    "probs = probs[:, 1]\n",
    "\n",
    "plt.figure(figsize=(12,7))\n",
    "# calculate AUC\n",
    "cart_test_auc_dt_wo = roc_auc_score(y_test_a, probs)\n",
    "print('AUC: %.3f' % cart_test_auc_dt_wo)\n",
    "\n",
    "# calculate roc curve\n",
    "cart_test_fpr_dt_wo, cart_test_tpr_dt_wo, cart_test_thresholds_dt_wo = roc_curve(y_test_a, probs)\n",
    "plt.plot([0, 1], [0, 1], linestyle='--')\n",
    "\n",
    "# plot the roc curve for the model\n",
    "plt.plot(cart_test_fpr_dt_wo, cart_test_tpr_dt_wo, marker='x')\n",
    "\n",
    "# show the plot\n",
    "plt.show()"
   ]
  },
  {
   "cell_type": "markdown",
   "metadata": {},
   "source": []
  },
  {
   "cell_type": "markdown",
   "metadata": {},
   "source": [
    "# RANDOM FOREST CLASSIFIER"
   ]
  },
  {
   "cell_type": "code",
   "execution_count": 130,
   "metadata": {},
   "outputs": [
    {
     "data": {
      "image/png": "[encoded data removed]",
      "text/plain": [
       "<Figure size 432x288 with 1 Axes>"
      ]
     },
     "metadata": {
      "needs_background": "light"
     },
     "output_type": "display_data"
    }
   ],
   "source": [
    "confusion_matrix(y_test, y_test_predict_rf)\n",
    "sns.heatmap(confusion_matrix(y_test, y_test_predict_rf),annot=True, fmt='d',cbar=False, cmap='rainbow')\n",
    "plt.xlabel('Predicted Label')\n",
    "plt.ylabel('Actual Label')\n",
    "plt.title('Confusion Matrix')\n",
    "plt.show()"
   ]
  },
  {
   "cell_type": "code",
   "execution_count": 131,
   "metadata": {},
   "outputs": [
    {
     "data": {
      "image/png": "[encoded data removed]",
      "text/plain": [
       "<Figure size 432x288 with 1 Axes>"
      ]
     },
     "metadata": {
      "needs_background": "light"
     },
     "output_type": "display_data"
    }
   ],
   "source": [
    "confusion_matrix(y_train, y_train_predict_rf)\n",
    "sns.heatmap(confusion_matrix(y_train, y_train_predict_rf),annot=True, fmt='d',cbar=False, cmap='rainbow')\n",
    "plt.xlabel('Predicted Label')\n",
    "plt.ylabel('Actual Label')\n",
    "plt.title('Confusion Matrix')\n",
    "plt.show()"
   ]
  },
  {
   "cell_type": "code",
   "execution_count": 132,
   "metadata": {},
   "outputs": [
    {
     "data": {
      "text/plain": [
       "0.7927072927072927"
      ]
     },
     "execution_count": 132,
     "metadata": {},
     "output_type": "execute_result"
    }
   ],
   "source": [
    "cart_train_acc_rf = reg_rf_model.score(X_train,y_train)\n",
    "cart_train_acc_rf"
   ]
  },
  {
   "cell_type": "code",
   "execution_count": 133,
   "metadata": {},
   "outputs": [
    {
     "data": {
      "text/plain": [
       "0.7823050058207218"
      ]
     },
     "execution_count": 133,
     "metadata": {},
     "output_type": "execute_result"
    }
   ],
   "source": [
    "cart_test_acc_rf = reg_rf_model.score(X_test,y_test)\n",
    "cart_test_acc_rf"
   ]
  },
  {
   "cell_type": "code",
   "execution_count": 134,
   "metadata": {},
   "outputs": [
    {
     "name": "stdout",
     "output_type": "stream",
     "text": [
      "              precision    recall  f1-score   support\n",
      "\n",
      "           0       0.82      0.89      0.85      1359\n",
      "           1       0.72      0.58      0.64       643\n",
      "\n",
      "    accuracy                           0.79      2002\n",
      "   macro avg       0.77      0.74      0.75      2002\n",
      "weighted avg       0.79      0.79      0.79      2002\n",
      "\n"
     ]
    }
   ],
   "source": [
    "print(classification_report(y_train,y_train_predict_rf))"
   ]
  },
  {
   "cell_type": "code",
   "execution_count": 135,
   "metadata": {},
   "outputs": [
    {
     "name": "stdout",
     "output_type": "stream",
     "text": [
      "              precision    recall  f1-score   support\n",
      "\n",
      "           0       0.82      0.88      0.85       588\n",
      "           1       0.69      0.57      0.62       271\n",
      "\n",
      "    accuracy                           0.78       859\n",
      "   macro avg       0.75      0.72      0.73       859\n",
      "weighted avg       0.78      0.78      0.78       859\n",
      "\n"
     ]
    }
   ],
   "source": [
    "print(classification_report(y_test,y_test_predict_rf))"
   ]
  },
  {
   "cell_type": "code",
   "execution_count": 136,
   "metadata": {},
   "outputs": [
    {
     "name": "stdout",
     "output_type": "stream",
     "text": [
      "cart_train_precision  0.72\n",
      "cart_train_recall  0.58\n",
      "cart_train_f1  0.64\n"
     ]
    }
   ],
   "source": [
    "cart_metrics_rf=classification_report(y_train, y_train_predict_rf,output_dict=True)\n",
    "df=pd.DataFrame(cart_metrics_rf).transpose()\n",
    "cart_train_f1_rf=round(df.loc[\"1\"][2],2)\n",
    "cart_train_recall_rf=round(df.loc[\"1\"][1],2)\n",
    "cart_train_precision_rf=round(df.loc[\"1\"][0],2)\n",
    "print ('cart_train_precision ',cart_train_precision_rf)\n",
    "print ('cart_train_recall ',cart_train_recall_rf)\n",
    "print ('cart_train_f1 ',cart_train_f1_rf)"
   ]
  },
  {
   "cell_type": "code",
   "execution_count": 137,
   "metadata": {},
   "outputs": [
    {
     "name": "stdout",
     "output_type": "stream",
     "text": [
      "cart_train_precision  0.69\n",
      "cart_train_recall  0.57\n",
      "cart_train_f1  0.62\n"
     ]
    }
   ],
   "source": [
    "cart_metrics_rf=classification_report(y_test, y_test_predict_rf,output_dict=True)\n",
    "df=pd.DataFrame(cart_metrics_rf).transpose()\n",
    "cart_test_f1_rf=round(df.loc[\"1\"][2],2)\n",
    "cart_test_recall_rf=round(df.loc[\"1\"][1],2)\n",
    "cart_test_precision_rf=round(df.loc[\"1\"][0],2)\n",
    "print ('cart_train_precision ',cart_test_precision_rf)\n",
    "print ('cart_train_recall ',cart_test_recall_rf)\n",
    "print ('cart_train_f1 ',cart_test_f1_rf)"
   ]
  },
  {
   "cell_type": "code",
   "execution_count": 138,
   "metadata": {},
   "outputs": [
    {
     "name": "stdout",
     "output_type": "stream",
     "text": [
      "AUC: 0.851\n"
     ]
    },
    {
     "data": {
      "image/png": "[encoded data removed]",
      "text/plain": [
       "<Figure size 864x504 with 1 Axes>"
      ]
     },
     "metadata": {
      "needs_background": "light"
     },
     "output_type": "display_data"
    }
   ],
   "source": [
    "# predict probabilities\n",
    "probs = reg_rf_model.predict_proba(X_train)\n",
    "\n",
    "# keep probabilities for the positive outcome only\n",
    "probs = probs[:, 1]\n",
    "\n",
    "plt.figure(figsize=(12,7))\n",
    "# calculate AUC\n",
    "cart_train_auc_rf = roc_auc_score(y_train, probs)\n",
    "print('AUC: %.3f' % cart_train_auc_rf)\n",
    "\n",
    "# calculate roc curve\n",
    "cart_train_fpr_rf, cart_train_tpr_rf, cart_train_thresholds_rf = roc_curve(y_train, probs)\n",
    "plt.plot([0, 1], [0, 1], linestyle='--')\n",
    "\n",
    "# plot the roc curve for the model\n",
    "plt.plot(cart_train_fpr_rf, cart_train_tpr_rf, marker='x')\n",
    "\n",
    "# show the plot\n",
    "plt.show()"
   ]
  },
  {
   "cell_type": "code",
   "execution_count": 139,
   "metadata": {},
   "outputs": [
    {
     "name": "stdout",
     "output_type": "stream",
     "text": [
      "AUC: 0.814\n"
     ]
    },
    {
     "data": {
      "image/png": "[encoded data removed]",
      "text/plain": [
       "<Figure size 864x504 with 1 Axes>"
      ]
     },
     "metadata": {
      "needs_background": "light"
     },
     "output_type": "display_data"
    }
   ],
   "source": [
    "# predict probabilities\n",
    "probs = reg_rf_model.predict_proba(X_test)\n",
    "\n",
    "# keep probabilities for the positive outcome only\n",
    "probs = probs[:, 1]\n",
    "\n",
    "plt.figure(figsize=(12,7))\n",
    "# calculate AUC\n",
    "cart_test_auc_rf = roc_auc_score(y_test, probs)\n",
    "print('AUC: %.3f' % cart_test_auc_rf)\n",
    "\n",
    "# calculate roc curve\n",
    "cart_test_fpr_rf, cart_test_tpr_rf, cart_test_thresholds_rf = roc_curve(y_test, probs)\n",
    "plt.plot([0, 1], [0, 1], linestyle='--')\n",
    "\n",
    "# plot the roc curve for the model\n",
    "plt.plot(cart_test_fpr_rf, cart_test_tpr_rf, marker='x')\n",
    "\n",
    "# show the plot\n",
    "plt.show()"
   ]
  },
  {
   "cell_type": "markdown",
   "metadata": {},
   "source": [
    "### Without outliers"
   ]
  },
  {
   "cell_type": "code",
   "execution_count": 140,
   "metadata": {},
   "outputs": [
    {
     "data": {
      "image/png": "[encoded data removed]",
      "text/plain": [
       "<Figure size 432x288 with 1 Axes>"
      ]
     },
     "metadata": {
      "needs_background": "light"
     },
     "output_type": "display_data"
    }
   ],
   "source": [
    "confusion_matrix(y_test_a, y_test_predict_rf_wo)\n",
    "sns.heatmap(confusion_matrix(y_test_a, y_test_predict_rf_wo),annot=True, fmt='d',cbar=False, cmap='rainbow')\n",
    "plt.xlabel('Predicted Label')\n",
    "plt.ylabel('Actual Label')\n",
    "plt.title('Confusion Matrix')\n",
    "plt.show()"
   ]
  },
  {
   "cell_type": "code",
   "execution_count": 141,
   "metadata": {},
   "outputs": [
    {
     "data": {
      "image/png": "[encoded data removed]",
      "text/plain": [
       "<Figure size 432x288 with 1 Axes>"
      ]
     },
     "metadata": {
      "needs_background": "light"
     },
     "output_type": "display_data"
    }
   ],
   "source": [
    "confusion_matrix(y_train_a, y_train_predict_rf_wo)\n",
    "sns.heatmap(confusion_matrix(y_train_a, y_train_predict_rf_wo),annot=True, fmt='d',cbar=False, cmap='rainbow')\n",
    "plt.xlabel('Predicted Label')\n",
    "plt.ylabel('Actual Label')\n",
    "plt.title('Confusion Matrix')\n",
    "plt.show()"
   ]
  },
  {
   "cell_type": "code",
   "execution_count": 142,
   "metadata": {},
   "outputs": [
    {
     "data": {
      "text/plain": [
       "0.7937062937062938"
      ]
     },
     "execution_count": 142,
     "metadata": {},
     "output_type": "execute_result"
    }
   ],
   "source": [
    "cart_train_acc_rf_wo = reg_rf_model_wo.score(X_train_a,y_train_a)\n",
    "cart_train_acc_rf_wo"
   ]
  },
  {
   "cell_type": "code",
   "execution_count": 143,
   "metadata": {},
   "outputs": [
    {
     "data": {
      "text/plain": [
       "0.7846332945285215"
      ]
     },
     "execution_count": 143,
     "metadata": {},
     "output_type": "execute_result"
    }
   ],
   "source": [
    "cart_test_acc_rf_wo = reg_rf_model_wo.score(X_test_a,y_test_a)\n",
    "cart_test_acc_rf_wo"
   ]
  },
  {
   "cell_type": "code",
   "execution_count": 144,
   "metadata": {},
   "outputs": [
    {
     "name": "stdout",
     "output_type": "stream",
     "text": [
      "              precision    recall  f1-score   support\n",
      "\n",
      "           0       0.82      0.89      0.85      1359\n",
      "           1       0.72      0.59      0.65       643\n",
      "\n",
      "    accuracy                           0.79      2002\n",
      "   macro avg       0.77      0.74      0.75      2002\n",
      "weighted avg       0.79      0.79      0.79      2002\n",
      "\n"
     ]
    }
   ],
   "source": [
    "print(classification_report(y_train_a,y_train_predict_rf_wo))"
   ]
  },
  {
   "cell_type": "code",
   "execution_count": 145,
   "metadata": {},
   "outputs": [
    {
     "name": "stdout",
     "output_type": "stream",
     "text": [
      "              precision    recall  f1-score   support\n",
      "\n",
      "           0       0.82      0.89      0.85       588\n",
      "           1       0.70      0.56      0.62       271\n",
      "\n",
      "    accuracy                           0.78       859\n",
      "   macro avg       0.76      0.73      0.74       859\n",
      "weighted avg       0.78      0.78      0.78       859\n",
      "\n"
     ]
    }
   ],
   "source": [
    "print(classification_report(y_test_a,y_test_predict_rf_wo))"
   ]
  },
  {
   "cell_type": "code",
   "execution_count": 146,
   "metadata": {},
   "outputs": [
    {
     "name": "stdout",
     "output_type": "stream",
     "text": [
      "cart_train_precision  0.72\n",
      "cart_train_recall  0.59\n",
      "cart_train_f1  0.65\n"
     ]
    }
   ],
   "source": [
    "cart_metrics_rf_wo=classification_report(y_train_a, y_train_predict_rf_wo,output_dict=True)\n",
    "df=pd.DataFrame(cart_metrics_rf_wo).transpose()\n",
    "cart_train_f1_rf_wo=round(df.loc[\"1\"][2],2)\n",
    "cart_train_recall_rf_wo=round(df.loc[\"1\"][1],2)\n",
    "cart_train_precision_rf_wo=round(df.loc[\"1\"][0],2)\n",
    "print ('cart_train_precision ',cart_train_precision_rf_wo)\n",
    "print ('cart_train_recall ',cart_train_recall_rf_wo)\n",
    "print ('cart_train_f1 ',cart_train_f1_rf_wo)"
   ]
  },
  {
   "cell_type": "code",
   "execution_count": 147,
   "metadata": {},
   "outputs": [
    {
     "name": "stdout",
     "output_type": "stream",
     "text": [
      "cart_test_precision  0.7\n",
      "cart_test_recall  0.56\n",
      "cart_test_f1  0.62\n"
     ]
    }
   ],
   "source": [
    "cart_metrics_rf_wo=classification_report(y_test_a, y_test_predict_rf_wo,output_dict=True)\n",
    "df=pd.DataFrame(cart_metrics_rf_wo).transpose()\n",
    "cart_test_f1_rf_wo=round(df.loc[\"1\"][2],2)\n",
    "cart_test_recall_rf_wo=round(df.loc[\"1\"][1],2)\n",
    "cart_test_precision_rf_wo=round(df.loc[\"1\"][0],2)\n",
    "print ('cart_test_precision ',cart_test_precision_rf_wo)\n",
    "print ('cart_test_recall ',cart_test_recall_rf_wo)\n",
    "print ('cart_test_f1 ',cart_test_f1_rf_wo)"
   ]
  },
  {
   "cell_type": "code",
   "execution_count": 148,
   "metadata": {},
   "outputs": [
    {
     "name": "stdout",
     "output_type": "stream",
     "text": [
      "AUC: 0.850\n"
     ]
    },
    {
     "data": {
      "image/png": "[encoded data removed]",
      "text/plain": [
       "<Figure size 864x504 with 1 Axes>"
      ]
     },
     "metadata": {
      "needs_background": "light"
     },
     "output_type": "display_data"
    }
   ],
   "source": [
    "# predict probabilities\n",
    "probs = reg_rf_model_wo.predict_proba(X_train_a)\n",
    "\n",
    "# keep probabilities for the positive outcome only\n",
    "probs = probs[:, 1]\n",
    "\n",
    "plt.figure(figsize=(12,7))\n",
    "# calculate AUC\n",
    "cart_train_auc_rf_wo = roc_auc_score(y_train_a, probs)\n",
    "print('AUC: %.3f' % cart_train_auc_rf_wo)\n",
    "\n",
    "\n",
    "# calculate roc curve\n",
    "cart_train_fpr_rf_wo, cart_train_tpr_rf_wo, cart_train_thresholds_rf_wo = roc_curve(y_train_a, probs)\n",
    "plt.plot([0, 1], [0, 1], linestyle='--')\n",
    "\n",
    "# plot the roc curve for the model\n",
    "plt.plot(cart_train_fpr_rf_wo, cart_train_tpr_rf_wo, marker='x')\n",
    "\n",
    "# show the plot\n",
    "plt.show()"
   ]
  },
  {
   "cell_type": "code",
   "execution_count": 149,
   "metadata": {},
   "outputs": [
    {
     "name": "stdout",
     "output_type": "stream",
     "text": [
      "AUC: 0.813\n"
     ]
    },
    {
     "data": {
      "image/png": "[encoded data removed]",
      "text/plain": [
       "<Figure size 864x504 with 1 Axes>"
      ]
     },
     "metadata": {
      "needs_background": "light"
     },
     "output_type": "display_data"
    }
   ],
   "source": [
    "# predict probabilities\n",
    "probs = reg_rf_model_wo.predict_proba(X_test_a)\n",
    "\n",
    "# keep probabilities for the positive outcome only\n",
    "probs = probs[:, 1]\n",
    "\n",
    "plt.figure(figsize=(12,7))\n",
    "# calculate AUC\n",
    "cart_test_auc_rf_wo = roc_auc_score(y_test_a, probs)\n",
    "print('AUC: %.3f' % cart_test_auc_rf_wo)\n",
    "\n",
    "# calculate roc curve\n",
    "cart_test_fpr_rf_wo, cart_test_tpr_rf_wo, cart_test_thresholds_rf_wo = roc_curve(y_test_a, probs)\n",
    "plt.plot([0, 1], [0, 1], linestyle='--')\n",
    "\n",
    "# plot the roc curve for the model\n",
    "plt.plot(cart_test_fpr_rf_wo, cart_test_tpr_rf_wo, marker='x')\n",
    "\n",
    "# show the plot\n",
    "plt.show()"
   ]
  },
  {
   "cell_type": "markdown",
   "metadata": {},
   "source": []
  },
  {
   "cell_type": "markdown",
   "metadata": {},
   "source": [
    "# MLP CLASSIFIER (ARTIFICIAL NEURAL NETWORK)"
   ]
  },
  {
   "cell_type": "code",
   "execution_count": 150,
   "metadata": {},
   "outputs": [
    {
     "data": {
      "image/png": "[encoded data removed]",
      "text/plain": [
       "<Figure size 432x288 with 1 Axes>"
      ]
     },
     "metadata": {
      "needs_background": "light"
     },
     "output_type": "display_data"
    }
   ],
   "source": [
    "confusion_matrix(y_test_a, y_pred)\n",
    "sns.heatmap(confusion_matrix(y_test_a, y_pred),annot=True, fmt='d',cbar=False, cmap='rainbow')\n",
    "plt.xlabel('Predicted Label')\n",
    "plt.ylabel('Actual Label')\n",
    "plt.title('Confusion Matrix')\n",
    "plt.show()"
   ]
  },
  {
   "cell_type": "code",
   "execution_count": 151,
   "metadata": {},
   "outputs": [
    {
     "data": {
      "image/png": "[encoded data removed]",
      "text/plain": [
       "<Figure size 432x288 with 1 Axes>"
      ]
     },
     "metadata": {
      "needs_background": "light"
     },
     "output_type": "display_data"
    }
   ],
   "source": [
    "confusion_matrix(y_train_a, y_pred_2)\n",
    "sns.heatmap(confusion_matrix(y_train_a, y_pred_2),annot=True, fmt='d',cbar=False, cmap='rainbow')\n",
    "plt.xlabel('Predicted Label')\n",
    "plt.ylabel('Actual Label')\n",
    "plt.title('Confusion Matrix')\n",
    "plt.show()"
   ]
  },
  {
   "cell_type": "code",
   "execution_count": 152,
   "metadata": {},
   "outputs": [
    {
     "data": {
      "text/plain": [
       "0.7842157842157842"
      ]
     },
     "execution_count": 152,
     "metadata": {},
     "output_type": "execute_result"
    }
   ],
   "source": [
    "mlp_train_acc = clf.score(X_train_mlp,y_train_a)\n",
    "mlp_train_acc"
   ]
  },
  {
   "cell_type": "code",
   "execution_count": 153,
   "metadata": {},
   "outputs": [
    {
     "data": {
      "text/plain": [
       "0.7811408614668219"
      ]
     },
     "execution_count": 153,
     "metadata": {},
     "output_type": "execute_result"
    }
   ],
   "source": [
    "mlp_test_acc = clf.score(X_test_mlp,y_test_a)\n",
    "mlp_test_acc"
   ]
  },
  {
   "cell_type": "code",
   "execution_count": 154,
   "metadata": {},
   "outputs": [
    {
     "name": "stdout",
     "output_type": "stream",
     "text": [
      "              precision    recall  f1-score   support\n",
      "\n",
      "           0       0.83      0.86      0.84       588\n",
      "           1       0.67      0.61      0.64       271\n",
      "\n",
      "    accuracy                           0.78       859\n",
      "   macro avg       0.75      0.74      0.74       859\n",
      "weighted avg       0.78      0.78      0.78       859\n",
      "\n"
     ]
    }
   ],
   "source": [
    "print(classification_report(y_test_a,y_pred))"
   ]
  },
  {
   "cell_type": "code",
   "execution_count": 155,
   "metadata": {},
   "outputs": [
    {
     "name": "stdout",
     "output_type": "stream",
     "text": [
      "              precision    recall  f1-score   support\n",
      "\n",
      "           0       0.83      0.86      0.84      1359\n",
      "           1       0.68      0.63      0.65       643\n",
      "\n",
      "    accuracy                           0.78      2002\n",
      "   macro avg       0.75      0.74      0.75      2002\n",
      "weighted avg       0.78      0.78      0.78      2002\n",
      "\n"
     ]
    }
   ],
   "source": [
    "print(classification_report(y_train_a,y_pred_2))"
   ]
  },
  {
   "cell_type": "code",
   "execution_count": 156,
   "metadata": {},
   "outputs": [
    {
     "name": "stdout",
     "output_type": "stream",
     "text": [
      "mlp_train_precision  0.68\n",
      "mlp_train_recall  0.63\n",
      "mlp_train_f1  0.65\n"
     ]
    }
   ],
   "source": [
    "mlp_metrics=classification_report(y_train, y_pred_2,output_dict=True)\n",
    "df=pd.DataFrame(mlp_metrics).transpose()\n",
    "mlp_train_f1=round(df.loc[\"1\"][2],2)\n",
    "mlp_train_recall=round(df.loc[\"1\"][1],2)\n",
    "mlp_train_precision=round(df.loc[\"1\"][0],2)\n",
    "print ('mlp_train_precision ',mlp_train_precision)\n",
    "print ('mlp_train_recall ',mlp_train_recall)\n",
    "print ('mlp_train_f1 ',mlp_train_f1)"
   ]
  },
  {
   "cell_type": "code",
   "execution_count": 157,
   "metadata": {},
   "outputs": [
    {
     "name": "stdout",
     "output_type": "stream",
     "text": [
      "mlp_test_precision  0.67\n",
      "mlp_test_recall  0.61\n",
      "mlp_test_f1  0.64\n"
     ]
    }
   ],
   "source": [
    "mlp_metrics=classification_report(y_test, y_pred,output_dict=True)\n",
    "df=pd.DataFrame(mlp_metrics).transpose()\n",
    "mlp_test_f1=round(df.loc[\"1\"][2],2)\n",
    "mlp_test_recall=round(df.loc[\"1\"][1],2)\n",
    "mlp_test_precision=round(df.loc[\"1\"][0],2)\n",
    "print ('mlp_test_precision ',mlp_test_precision)\n",
    "print ('mlp_test_recall ',mlp_test_recall)\n",
    "print ('mlp_test_f1 ',mlp_test_f1)"
   ]
  },
  {
   "cell_type": "code",
   "execution_count": 158,
   "metadata": {},
   "outputs": [
    {
     "name": "stdout",
     "output_type": "stream",
     "text": [
      "AUC: 0.841\n"
     ]
    },
    {
     "data": {
      "image/png": "[encoded data removed]",
      "text/plain": [
       "<Figure size 864x504 with 1 Axes>"
      ]
     },
     "metadata": {
      "needs_background": "light"
     },
     "output_type": "display_data"
    }
   ],
   "source": [
    "# predict probabilities\n",
    "probs = clf.predict_proba(X_train_mlp)\n",
    "\n",
    "# keep probabilities for the positive outcome only\n",
    "probs = probs[:, 1]\n",
    "\n",
    "plt.figure(figsize=(12,7))\n",
    "# calculate AUC\n",
    "mlp_train_auc = roc_auc_score(y_train_a, probs)\n",
    "print('AUC: %.3f' % mlp_train_auc)\n",
    "\n",
    "# calculate roc curve\n",
    "mlp_train_fpr, mlp_train_tpr, mlp_train_thresholds = roc_curve(y_train_a, probs)\n",
    "plt.plot([0, 1], [0, 1], linestyle='--')\n",
    "\n",
    "# plot the roc curve for the model\n",
    "plt.plot(mlp_train_fpr, mlp_train_tpr, marker='x')\n",
    "\n",
    "# show the plot\n",
    "plt.show()"
   ]
  },
  {
   "cell_type": "code",
   "execution_count": 159,
   "metadata": {},
   "outputs": [
    {
     "name": "stdout",
     "output_type": "stream",
     "text": [
      "AUC: 0.809\n"
     ]
    },
    {
     "data": {
      "image/png": "[encoded data removed]",
      "text/plain": [
       "<Figure size 864x504 with 1 Axes>"
      ]
     },
     "metadata": {
      "needs_background": "light"
     },
     "output_type": "display_data"
    }
   ],
   "source": [
    "# predict probabilities\n",
    "probs = clf.predict_proba(X_test_mlp)\n",
    "\n",
    "# keep probabilities for the positive outcome only\n",
    "probs = probs[:, 1]\n",
    "\n",
    "plt.figure(figsize=(12,7))\n",
    "# calculate AUC\n",
    "mlp_test_auc = roc_auc_score(y_test_a, probs)\n",
    "print('AUC: %.3f' % mlp_test_auc)\n",
    "\n",
    "# calculate roc curve\n",
    "mlp_test_fpr, mlp_test_tpr, mlp_test_thresholds = roc_curve(y_test_a, probs)\n",
    "plt.plot([0, 1], [0, 1], linestyle='--')\n",
    "\n",
    "# plot the roc curve for the model\n",
    "plt.plot(mlp_test_fpr, mlp_test_tpr, marker='x')\n",
    "\n",
    "# show the plot\n",
    "plt.show()"
   ]
  },
  {
   "cell_type": "markdown",
   "metadata": {},
   "source": [
    "# 2.4 Final Model: Compare all the model and write an inference which model is best/optimized."
   ]
  },
  {
   "cell_type": "code",
   "execution_count": 160,
   "metadata": {},
   "outputs": [
    {
     "data": {
      "text/html": [
       "<div>\n",
       "<style scoped>\n",
       "    .dataframe tbody tr th:only-of-type {\n",
       "        vertical-align: middle;\n",
       "    }\n",
       "\n",
       "    .dataframe tbody tr th {\n",
       "        vertical-align: top;\n",
       "    }\n",
       "\n",
       "    .dataframe thead th {\n",
       "        text-align: right;\n",
       "    }\n",
       "</style>\n",
       "<table border=\"1\" class=\"dataframe\">\n",
       "  <thead>\n",
       "    <tr style=\"text-align: right;\">\n",
       "      <th></th>\n",
       "      <th>Decision Tree Train With Outliers</th>\n",
       "      <th>Decision Tree Test With Outliers</th>\n",
       "      <th>Decision Tree Train Without Outliers</th>\n",
       "      <th>Decision Tree Test Without Outliers</th>\n",
       "      <th>Random Forest Train With Outliers</th>\n",
       "      <th>Random Forest Test With Outliers</th>\n",
       "      <th>Random Forest Train Without Outliers</th>\n",
       "      <th>Random Forest Test Without Outliers</th>\n",
       "      <th>Neural Network Train Without Outliers</th>\n",
       "      <th>Neural Network Test Without Outliers</th>\n",
       "    </tr>\n",
       "  </thead>\n",
       "  <tbody>\n",
       "    <tr>\n",
       "      <th>Accuracy</th>\n",
       "      <td>0.78</td>\n",
       "      <td>0.78</td>\n",
       "      <td>0.78</td>\n",
       "      <td>0.78</td>\n",
       "      <td>0.79</td>\n",
       "      <td>0.79</td>\n",
       "      <td>0.79</td>\n",
       "      <td>0.78</td>\n",
       "      <td>0.78</td>\n",
       "      <td>0.78</td>\n",
       "    </tr>\n",
       "    <tr>\n",
       "      <th>AUC</th>\n",
       "      <td>0.81</td>\n",
       "      <td>0.80</td>\n",
       "      <td>0.81</td>\n",
       "      <td>0.80</td>\n",
       "      <td>0.85</td>\n",
       "      <td>0.85</td>\n",
       "      <td>0.85</td>\n",
       "      <td>0.81</td>\n",
       "      <td>0.84</td>\n",
       "      <td>0.81</td>\n",
       "    </tr>\n",
       "    <tr>\n",
       "      <th>Recall</th>\n",
       "      <td>0.59</td>\n",
       "      <td>0.59</td>\n",
       "      <td>0.59</td>\n",
       "      <td>0.59</td>\n",
       "      <td>0.58</td>\n",
       "      <td>0.58</td>\n",
       "      <td>0.59</td>\n",
       "      <td>0.56</td>\n",
       "      <td>0.63</td>\n",
       "      <td>0.61</td>\n",
       "    </tr>\n",
       "    <tr>\n",
       "      <th>Precision</th>\n",
       "      <td>0.67</td>\n",
       "      <td>0.67</td>\n",
       "      <td>0.67</td>\n",
       "      <td>0.67</td>\n",
       "      <td>0.72</td>\n",
       "      <td>0.72</td>\n",
       "      <td>0.72</td>\n",
       "      <td>0.70</td>\n",
       "      <td>0.68</td>\n",
       "      <td>0.67</td>\n",
       "    </tr>\n",
       "    <tr>\n",
       "      <th>F1 Score</th>\n",
       "      <td>0.63</td>\n",
       "      <td>0.63</td>\n",
       "      <td>0.63</td>\n",
       "      <td>0.63</td>\n",
       "      <td>0.64</td>\n",
       "      <td>0.64</td>\n",
       "      <td>0.65</td>\n",
       "      <td>0.62</td>\n",
       "      <td>0.65</td>\n",
       "      <td>0.64</td>\n",
       "    </tr>\n",
       "  </tbody>\n",
       "</table>\n",
       "</div>"
      ],
      "text/plain": [
       "           Decision Tree Train With Outliers  \\\n",
       "Accuracy                                0.78   \n",
       "AUC                                     0.81   \n",
       "Recall                                  0.59   \n",
       "Precision                               0.67   \n",
       "F1 Score                                0.63   \n",
       "\n",
       "           Decision Tree Test With Outliers  \\\n",
       "Accuracy                               0.78   \n",
       "AUC                                    0.80   \n",
       "Recall                                 0.59   \n",
       "Precision                              0.67   \n",
       "F1 Score                               0.63   \n",
       "\n",
       "           Decision Tree Train Without Outliers  \\\n",
       "Accuracy                                   0.78   \n",
       "AUC                                        0.81   \n",
       "Recall                                     0.59   \n",
       "Precision                                  0.67   \n",
       "F1 Score                                   0.63   \n",
       "\n",
       "           Decision Tree Test Without Outliers  \\\n",
       "Accuracy                                  0.78   \n",
       "AUC                                       0.80   \n",
       "Recall                                    0.59   \n",
       "Precision                                 0.67   \n",
       "F1 Score                                  0.63   \n",
       "\n",
       "           Random Forest Train With Outliers  \\\n",
       "Accuracy                                0.79   \n",
       "AUC                                     0.85   \n",
       "Recall                                  0.58   \n",
       "Precision                               0.72   \n",
       "F1 Score                                0.64   \n",
       "\n",
       "           Random Forest Test With Outliers  \\\n",
       "Accuracy                               0.79   \n",
       "AUC                                    0.85   \n",
       "Recall                                 0.58   \n",
       "Precision                              0.72   \n",
       "F1 Score                               0.64   \n",
       "\n",
       "           Random Forest Train Without Outliers  \\\n",
       "Accuracy                                   0.79   \n",
       "AUC                                        0.85   \n",
       "Recall                                     0.59   \n",
       "Precision                                  0.72   \n",
       "F1 Score                                   0.65   \n",
       "\n",
       "           Random Forest Test Without Outliers  \\\n",
       "Accuracy                                  0.78   \n",
       "AUC                                       0.81   \n",
       "Recall                                    0.56   \n",
       "Precision                                 0.70   \n",
       "F1 Score                                  0.62   \n",
       "\n",
       "           Neural Network Train Without Outliers  \\\n",
       "Accuracy                                    0.78   \n",
       "AUC                                         0.84   \n",
       "Recall                                      0.63   \n",
       "Precision                                   0.68   \n",
       "F1 Score                                    0.65   \n",
       "\n",
       "           Neural Network Test Without Outliers  \n",
       "Accuracy                                   0.78  \n",
       "AUC                                        0.81  \n",
       "Recall                                     0.61  \n",
       "Precision                                  0.67  \n",
       "F1 Score                                   0.64  "
      ]
     },
     "execution_count": 160,
     "metadata": {},
     "output_type": "execute_result"
    }
   ],
   "source": [
    "index=['Accuracy', 'AUC', 'Recall','Precision','F1 Score']\n",
    "data = pd.DataFrame({'Decision Tree Train With Outliers':[cart_train_acc_dt,cart_train_auc_dt,cart_train_recall_dt,cart_train_precision_dt,cart_train_f1_dt],\n",
    "        'Decision Tree Test With Outliers':[cart_test_acc_dt,cart_test_auc_dt,cart_test_recall_dt,cart_test_precision_dt,cart_test_f1_dt],\n",
    "        'Decision Tree Train Without Outliers':[cart_train_acc_dt_wo,cart_train_auc_dt_wo,cart_train_recall_dt_wo,cart_train_precision_dt_wo,cart_train_f1_dt_wo],\n",
    "        'Decision Tree Test Without Outliers':[cart_test_acc_dt_wo,cart_test_auc_dt_wo,cart_test_recall_dt_wo,cart_test_precision_dt_wo,cart_test_f1_dt_wo],                        \n",
    "       'Random Forest Train With Outliers':[cart_train_acc_rf,cart_train_auc_rf,cart_train_recall_rf,cart_train_precision_rf,cart_train_f1_rf],\n",
    "        'Random Forest Test With Outliers':[cart_train_acc_rf,cart_train_auc_rf,cart_train_recall_rf,cart_train_precision_rf,cart_train_f1_rf],\n",
    "        'Random Forest Train Without Outliers':[cart_train_acc_rf_wo,cart_train_auc_rf_wo,cart_train_recall_rf_wo,cart_train_precision_rf_wo,cart_train_f1_rf_wo],\n",
    "        'Random Forest Test Without Outliers':[cart_test_acc_rf_wo,cart_test_auc_rf_wo,cart_test_recall_rf_wo,cart_test_precision_rf_wo,cart_test_f1_rf_wo],\n",
    "       'Neural Network Train Without Outliers':[mlp_train_acc,mlp_train_auc,mlp_train_recall,mlp_train_precision,mlp_train_f1],\n",
    "        'Neural Network Test Without Outliers':[mlp_test_acc,mlp_test_auc,mlp_test_recall,mlp_test_precision,mlp_test_f1]},index=index)\n",
    "round(data,2)"
   ]
  },
  {
   "cell_type": "markdown",
   "metadata": {},
   "source": [
    "AUC ROC graph without treating outliers"
   ]
  },
  {
   "cell_type": "code",
   "execution_count": 161,
   "metadata": {},
   "outputs": [
    {
     "data": {
      "text/plain": [
       "<matplotlib.legend.Legend at 0x1aeeb1255c0>"
      ]
     },
     "execution_count": 161,
     "metadata": {},
     "output_type": "execute_result"
    },
    {
     "data": {
      "image/png": "[encoded data removed]",
      "text/plain": [
       "<Figure size 720x540 with 1 Axes>"
      ]
     },
     "metadata": {
      "needs_background": "light"
     },
     "output_type": "display_data"
    }
   ],
   "source": [
    "fig,ax = plt.subplots(figsize=(10,7.5)) \n",
    "\n",
    "plt.plot([0, 1], [0, 1], linestyle='--')\n",
    "plt.plot(cart_train_fpr_dt, cart_train_tpr_dt,color='red',label=\"Decision Tree\")\n",
    "plt.plot(cart_train_fpr_rf, cart_train_tpr_rf,color='green',label=\"Random Forest\")\n",
    "plt.plot(mlp_train_fpr,mlp_train_tpr,color='black',label=\"Artificial Neural Networks\")\n",
    "plt.xlabel('False Positive Rate')\n",
    "plt.ylabel('True Positive Rate')\n",
    "plt.title(\"Train - with outliers\")\n",
    "plt.title('ROC')\n",
    "plt.legend(bbox_to_anchor=(0., 1.15, 1., .115), loc='lower right')"
   ]
  },
  {
   "cell_type": "code",
   "execution_count": 162,
   "metadata": {},
   "outputs": [
    {
     "data": {
      "text/plain": [
       "<matplotlib.legend.Legend at 0x1aee9ff4198>"
      ]
     },
     "execution_count": 162,
     "metadata": {},
     "output_type": "execute_result"
    },
    {
     "data": {
      "image/png": "[encoded data removed]",
      "text/plain": [
       "<Figure size 720x540 with 1 Axes>"
      ]
     },
     "metadata": {
      "needs_background": "light"
     },
     "output_type": "display_data"
    }
   ],
   "source": [
    "fig,ax = plt.subplots(figsize=(10,7.5)) \n",
    "plt.plot([0, 1], [0, 1], linestyle='--')\n",
    "plt.plot(cart_test_fpr_dt, cart_test_tpr_dt,color='red',label=\"Decision Tree\")\n",
    "plt.plot(cart_test_fpr_rf,cart_test_tpr_rf,color='green',label=\"Random Forest\")\n",
    "plt.plot(mlp_test_fpr,mlp_test_tpr,color='black',label=\"Artificial Neural Networks\")\n",
    "plt.xlabel('False Positive Rate')\n",
    "plt.ylabel('True Positive Rate')\n",
    "plt.title('ROC')\n",
    "plt.legend(bbox_to_anchor=(0., 1.12, 1., .112), loc='lower right')"
   ]
  },
  {
   "cell_type": "markdown",
   "metadata": {},
   "source": [
    "AUC ROC graph after treating outliers"
   ]
  },
  {
   "cell_type": "code",
   "execution_count": 163,
   "metadata": {},
   "outputs": [
    {
     "data": {
      "text/plain": [
       "<matplotlib.legend.Legend at 0x1aee906fa58>"
      ]
     },
     "execution_count": 163,
     "metadata": {},
     "output_type": "execute_result"
    },
    {
     "data": {
      "image/png": "[encoded data removed]",
      "text/plain": [
       "<Figure size 720x540 with 1 Axes>"
      ]
     },
     "metadata": {
      "needs_background": "light"
     },
     "output_type": "display_data"
    }
   ],
   "source": [
    "fig,ax = plt.subplots(figsize=(10,7.5)) \n",
    "plt.plot([0, 1], [0, 1], linestyle='--')\n",
    "plt.plot(cart_train_fpr_dt_wo, cart_train_tpr_dt_wo,color='red',label=\"Decision Tree\")\n",
    "plt.plot(cart_train_fpr_rf_wo, cart_train_tpr_rf_wo,color='green',label=\"Random Forest\")\n",
    "plt.plot(mlp_train_fpr,mlp_train_tpr,color='black',label=\"Artificial Neural Networks\")\n",
    "plt.xlabel('False Positive Rate')\n",
    "plt.ylabel('True Positive Rate')\n",
    "plt.title('ROC')\n",
    "plt.legend(bbox_to_anchor=(0., 1.12, 1., .112), loc='lower right')"
   ]
  },
  {
   "cell_type": "code",
   "execution_count": 164,
   "metadata": {},
   "outputs": [
    {
     "data": {
      "text/plain": [
       "<matplotlib.legend.Legend at 0x1aeed2255f8>"
      ]
     },
     "execution_count": 164,
     "metadata": {},
     "output_type": "execute_result"
    },
    {
     "data": {
      "image/png": "[encoded data removed]",
      "text/plain": [
       "<Figure size 720x540 with 1 Axes>"
      ]
     },
     "metadata": {
      "needs_background": "light"
     },
     "output_type": "display_data"
    }
   ],
   "source": [
    "fig,ax = plt.subplots(figsize=(10,7.5)) \n",
    "plt.plot([0, 1], [0, 1], linestyle='--')\n",
    "plt.plot(cart_test_fpr_dt_wo, cart_test_tpr_dt_wo,color='red',label=\"Decision Tree\")\n",
    "plt.plot(cart_test_fpr_rf_wo, cart_test_tpr_rf_wo,color='green',label=\"Random Forest\")\n",
    "plt.plot(mlp_test_fpr,mlp_test_tpr,color='black',label=\"Artificial Neural Networks\")\n",
    "plt.xlabel('False Positive Rate')\n",
    "plt.ylabel('True Positive Rate')\n",
    "plt.title('ROC')\n",
    "plt.legend(bbox_to_anchor=(1., 1.12, 0., .112), loc='lower right')"
   ]
  },
  {
   "cell_type": "markdown",
   "metadata": {},
   "source": []
  }
 ],
 "metadata": {
  "kernelspec": {
   "display_name": "Python 3",
   "language": "python",
   "name": "python3"
  },
  "language_info": {
   "codemirror_mode": {
    "name": "ipython",
    "version": 3
   },
   "file_extension": ".py",
   "mimetype": "text/x-python",
   "name": "python",
   "nbconvert_exporter": "python",
   "pygments_lexer": "ipython3",
   "version": "3.7.1"
  }
 },
 "nbformat": 4,
 "nbformat_minor": 4
}
